{
 "cells": [
  {
   "cell_type": "markdown",
   "metadata": {},
   "source": [
    "# **`KNN-3`**"
   ]
  },
  {
   "cell_type": "markdown",
   "metadata": {},
   "source": [
    "`Q1. Write a Python code to implement the KNN classifier algorithm on load_iris dataset in\n",
    "sklearn.datasets.`"
   ]
  },
  {
   "cell_type": "code",
   "execution_count": 106,
   "metadata": {},
   "outputs": [],
   "source": [
    "import numpy as np\n",
    "import pandas as pd\n",
    "import matplotlib.pyplot as plt\n",
    "from sklearn.datasets import load_iris\n",
    "%matplotlib inline"
   ]
  },
  {
   "cell_type": "code",
   "execution_count": 107,
   "metadata": {},
   "outputs": [],
   "source": [
    "iris = load_iris()"
   ]
  },
  {
   "cell_type": "code",
   "execution_count": 108,
   "metadata": {},
   "outputs": [
    {
     "name": "stdout",
     "output_type": "stream",
     "text": [
      ".. _iris_dataset:\n",
      "\n",
      "Iris plants dataset\n",
      "--------------------\n",
      "\n",
      "**Data Set Characteristics:**\n",
      "\n",
      "    :Number of Instances: 150 (50 in each of three classes)\n",
      "    :Number of Attributes: 4 numeric, predictive attributes and the class\n",
      "    :Attribute Information:\n",
      "        - sepal length in cm\n",
      "        - sepal width in cm\n",
      "        - petal length in cm\n",
      "        - petal width in cm\n",
      "        - class:\n",
      "                - Iris-Setosa\n",
      "                - Iris-Versicolour\n",
      "                - Iris-Virginica\n",
      "                \n",
      "    :Summary Statistics:\n",
      "\n",
      "    ============== ==== ==== ======= ===== ====================\n",
      "                    Min  Max   Mean    SD   Class Correlation\n",
      "    ============== ==== ==== ======= ===== ====================\n",
      "    sepal length:   4.3  7.9   5.84   0.83    0.7826\n",
      "    sepal width:    2.0  4.4   3.05   0.43   -0.4194\n",
      "    petal length:   1.0  6.9   3.76   1.76    0.9490  (high!)\n",
      "    petal width:    0.1  2.5   1.20   0.76    0.9565  (high!)\n",
      "    ============== ==== ==== ======= ===== ====================\n",
      "\n",
      "    :Missing Attribute Values: None\n",
      "    :Class Distribution: 33.3% for each of 3 classes.\n",
      "    :Creator: R.A. Fisher\n",
      "    :Donor: Michael Marshall (MARSHALL%PLU@io.arc.nasa.gov)\n",
      "    :Date: July, 1988\n",
      "\n",
      "The famous Iris database, first used by Sir R.A. Fisher. The dataset is taken\n",
      "from Fisher's paper. Note that it's the same as in R, but not as in the UCI\n",
      "Machine Learning Repository, which has two wrong data points.\n",
      "\n",
      "This is perhaps the best known database to be found in the\n",
      "pattern recognition literature.  Fisher's paper is a classic in the field and\n",
      "is referenced frequently to this day.  (See Duda & Hart, for example.)  The\n",
      "data set contains 3 classes of 50 instances each, where each class refers to a\n",
      "type of iris plant.  One class is linearly separable from the other 2; the\n",
      "latter are NOT linearly separable from each other.\n",
      "\n",
      ".. topic:: References\n",
      "\n",
      "   - Fisher, R.A. \"The use of multiple measurements in taxonomic problems\"\n",
      "     Annual Eugenics, 7, Part II, 179-188 (1936); also in \"Contributions to\n",
      "     Mathematical Statistics\" (John Wiley, NY, 1950).\n",
      "   - Duda, R.O., & Hart, P.E. (1973) Pattern Classification and Scene Analysis.\n",
      "     (Q327.D83) John Wiley & Sons.  ISBN 0-471-22361-1.  See page 218.\n",
      "   - Dasarathy, B.V. (1980) \"Nosing Around the Neighborhood: A New System\n",
      "     Structure and Classification Rule for Recognition in Partially Exposed\n",
      "     Environments\".  IEEE Transactions on Pattern Analysis and Machine\n",
      "     Intelligence, Vol. PAMI-2, No. 1, 67-71.\n",
      "   - Gates, G.W. (1972) \"The Reduced Nearest Neighbor Rule\".  IEEE Transactions\n",
      "     on Information Theory, May 1972, 431-433.\n",
      "   - See also: 1988 MLC Proceedings, 54-64.  Cheeseman et al\"s AUTOCLASS II\n",
      "     conceptual clustering system finds 3 classes in the data.\n",
      "   - Many, many more ...\n"
     ]
    }
   ],
   "source": [
    "print(iris.DESCR) # description of the dataset"
   ]
  },
  {
   "cell_type": "code",
   "execution_count": 109,
   "metadata": {},
   "outputs": [],
   "source": [
    "#separating dependent and independent features\n",
    "X = iris.data # independent features\n",
    "y = iris.target #target / dependent"
   ]
  },
  {
   "cell_type": "code",
   "execution_count": 110,
   "metadata": {},
   "outputs": [],
   "source": [
    "#splitting to train and test sets\n",
    "from sklearn.model_selection import train_test_split\n",
    "X_train , X_test , y_train , y_test  = train_test_split(X,y,test_size= 0.33 , random_state=0)"
   ]
  },
  {
   "cell_type": "code",
   "execution_count": 111,
   "metadata": {},
   "outputs": [],
   "source": [
    "# Importing the KNN classifier algorithm\n",
    "from sklearn.neighbors import KNeighborsClassifier\n",
    "classifier = KNeighborsClassifier()"
   ]
  },
  {
   "cell_type": "code",
   "execution_count": 112,
   "metadata": {},
   "outputs": [
    {
     "data": {
      "text/html": [
       "<style>#sk-container-id-11 {color: black;background-color: white;}#sk-container-id-11 pre{padding: 0;}#sk-container-id-11 div.sk-toggleable {background-color: white;}#sk-container-id-11 label.sk-toggleable__label {cursor: pointer;display: block;width: 100%;margin-bottom: 0;padding: 0.3em;box-sizing: border-box;text-align: center;}#sk-container-id-11 label.sk-toggleable__label-arrow:before {content: \"▸\";float: left;margin-right: 0.25em;color: #696969;}#sk-container-id-11 label.sk-toggleable__label-arrow:hover:before {color: black;}#sk-container-id-11 div.sk-estimator:hover label.sk-toggleable__label-arrow:before {color: black;}#sk-container-id-11 div.sk-toggleable__content {max-height: 0;max-width: 0;overflow: hidden;text-align: left;background-color: #f0f8ff;}#sk-container-id-11 div.sk-toggleable__content pre {margin: 0.2em;color: black;border-radius: 0.25em;background-color: #f0f8ff;}#sk-container-id-11 input.sk-toggleable__control:checked~div.sk-toggleable__content {max-height: 200px;max-width: 100%;overflow: auto;}#sk-container-id-11 input.sk-toggleable__control:checked~label.sk-toggleable__label-arrow:before {content: \"▾\";}#sk-container-id-11 div.sk-estimator input.sk-toggleable__control:checked~label.sk-toggleable__label {background-color: #d4ebff;}#sk-container-id-11 div.sk-label input.sk-toggleable__control:checked~label.sk-toggleable__label {background-color: #d4ebff;}#sk-container-id-11 input.sk-hidden--visually {border: 0;clip: rect(1px 1px 1px 1px);clip: rect(1px, 1px, 1px, 1px);height: 1px;margin: -1px;overflow: hidden;padding: 0;position: absolute;width: 1px;}#sk-container-id-11 div.sk-estimator {font-family: monospace;background-color: #f0f8ff;border: 1px dotted black;border-radius: 0.25em;box-sizing: border-box;margin-bottom: 0.5em;}#sk-container-id-11 div.sk-estimator:hover {background-color: #d4ebff;}#sk-container-id-11 div.sk-parallel-item::after {content: \"\";width: 100%;border-bottom: 1px solid gray;flex-grow: 1;}#sk-container-id-11 div.sk-label:hover label.sk-toggleable__label {background-color: #d4ebff;}#sk-container-id-11 div.sk-serial::before {content: \"\";position: absolute;border-left: 1px solid gray;box-sizing: border-box;top: 0;bottom: 0;left: 50%;z-index: 0;}#sk-container-id-11 div.sk-serial {display: flex;flex-direction: column;align-items: center;background-color: white;padding-right: 0.2em;padding-left: 0.2em;position: relative;}#sk-container-id-11 div.sk-item {position: relative;z-index: 1;}#sk-container-id-11 div.sk-parallel {display: flex;align-items: stretch;justify-content: center;background-color: white;position: relative;}#sk-container-id-11 div.sk-item::before, #sk-container-id-11 div.sk-parallel-item::before {content: \"\";position: absolute;border-left: 1px solid gray;box-sizing: border-box;top: 0;bottom: 0;left: 50%;z-index: -1;}#sk-container-id-11 div.sk-parallel-item {display: flex;flex-direction: column;z-index: 1;position: relative;background-color: white;}#sk-container-id-11 div.sk-parallel-item:first-child::after {align-self: flex-end;width: 50%;}#sk-container-id-11 div.sk-parallel-item:last-child::after {align-self: flex-start;width: 50%;}#sk-container-id-11 div.sk-parallel-item:only-child::after {width: 0;}#sk-container-id-11 div.sk-dashed-wrapped {border: 1px dashed gray;margin: 0 0.4em 0.5em 0.4em;box-sizing: border-box;padding-bottom: 0.4em;background-color: white;}#sk-container-id-11 div.sk-label label {font-family: monospace;font-weight: bold;display: inline-block;line-height: 1.2em;}#sk-container-id-11 div.sk-label-container {text-align: center;}#sk-container-id-11 div.sk-container {/* jupyter's `normalize.less` sets `[hidden] { display: none; }` but bootstrap.min.css set `[hidden] { display: none !important; }` so we also need the `!important` here to be able to override the default hidden behavior on the sphinx rendered scikit-learn.org. See: https://github.com/scikit-learn/scikit-learn/issues/21755 */display: inline-block !important;position: relative;}#sk-container-id-11 div.sk-text-repr-fallback {display: none;}</style><div id=\"sk-container-id-11\" class=\"sk-top-container\"><div class=\"sk-text-repr-fallback\"><pre>KNeighborsClassifier()</pre><b>In a Jupyter environment, please rerun this cell to show the HTML representation or trust the notebook. <br />On GitHub, the HTML representation is unable to render, please try loading this page with nbviewer.org.</b></div><div class=\"sk-container\" hidden><div class=\"sk-item\"><div class=\"sk-estimator sk-toggleable\"><input class=\"sk-toggleable__control sk-hidden--visually\" id=\"sk-estimator-id-25\" type=\"checkbox\" checked><label for=\"sk-estimator-id-25\" class=\"sk-toggleable__label sk-toggleable__label-arrow\">KNeighborsClassifier</label><div class=\"sk-toggleable__content\"><pre>KNeighborsClassifier()</pre></div></div></div></div></div>"
      ],
      "text/plain": [
       "KNeighborsClassifier()"
      ]
     },
     "execution_count": 112,
     "metadata": {},
     "output_type": "execute_result"
    }
   ],
   "source": [
    "# Training the model\n",
    "classifier.fit(X_train , y_train)"
   ]
  },
  {
   "cell_type": "code",
   "execution_count": 113,
   "metadata": {},
   "outputs": [],
   "source": [
    "# prediction on test set\n",
    "y_pred = classifier.predict(X_test)"
   ]
  },
  {
   "cell_type": "code",
   "execution_count": 114,
   "metadata": {},
   "outputs": [],
   "source": [
    "## Classification metrics\n",
    "from sklearn.metrics import confusion_matrix , accuracy_score , classification_report, ConfusionMatrixDisplay "
   ]
  },
  {
   "cell_type": "code",
   "execution_count": 115,
   "metadata": {},
   "outputs": [
    {
     "data": {
      "text/plain": [
       "Text(0.5, 1.0, 'Confusion matrix for iris dataset with KNN classifier')"
      ]
     },
     "execution_count": 115,
     "metadata": {},
     "output_type": "execute_result"
    },
    {
     "data": {
      "image/png": "[encoded data removed]",
      "text/plain": [
       "<Figure size 640x480 with 2 Axes>"
      ]
     },
     "metadata": {},
     "output_type": "display_data"
    }
   ],
   "source": [
    "display = ConfusionMatrixDisplay(confusion_matrix(y_test,y_pred),display_labels=classifier.classes_)\n",
    "display.plot()\n",
    "plt.title(\"Confusion matrix for iris dataset with KNN classifier\" , weight = \"bold\" , size = 10)"
   ]
  },
  {
   "cell_type": "code",
   "execution_count": 116,
   "metadata": {},
   "outputs": [
    {
     "name": "stdout",
     "output_type": "stream",
     "text": [
      "accuracy score is 98.00%\n",
      "\n",
      "Classification reprot: \n",
      "              precision    recall  f1-score   support\n",
      "\n",
      "           0       1.00      1.00      1.00        16\n",
      "           1       1.00      0.95      0.97        19\n",
      "           2       0.94      1.00      0.97        15\n",
      "\n",
      "    accuracy                           0.98        50\n",
      "   macro avg       0.98      0.98      0.98        50\n",
      "weighted avg       0.98      0.98      0.98        50\n",
      "\n"
     ]
    }
   ],
   "source": [
    "print(f\"accuracy score is {accuracy_score(y_test,y_pred):.2%}\")\n",
    "print(f\"\\nClassification reprot: \\n{classification_report(y_test,y_pred)}\")"
   ]
  },
  {
   "attachments": {},
   "cell_type": "markdown",
   "metadata": {},
   "source": [
    "`Q2. Write a Python code to implement the KNN regressor algorithm on load_boston dataset in\n",
    "sklearn.datasets.`"
   ]
  },
  {
   "attachments": {},
   "cell_type": "markdown",
   "metadata": {},
   "source": [
    "DEPRECATED: load_boston is deprecated in 1.0 and will be removed in 1.2.\n",
    "\n",
    "The Boston housing prices dataset has an ethical problem. You can refer to the documentation of this function for further details.\n",
    "\n",
    "The scikit-learn maintainers therefore strongly discourage the use of this dataset unless the purpose of the code is to study and educate about ethical issues in data science and machine learning.\n",
    "\n",
    "In this special case, you can fetch the dataset from the original source"
   ]
  },
  {
   "cell_type": "code",
   "execution_count": 53,
   "metadata": {},
   "outputs": [],
   "source": [
    "data_url = \"http://lib.stat.cmu.edu/datasets/boston\"\n",
    "raw_df = pd.read_csv(data_url, sep=\"\\s+\", skiprows=22, header=None)\n",
    "data = np.hstack([raw_df.values[::2, :], raw_df.values[1::2, :2]])\n",
    "target = raw_df.values[1::2, 2]"
   ]
  },
  {
   "cell_type": "code",
   "execution_count": 58,
   "metadata": {},
   "outputs": [],
   "source": [
    "#separating dependent and independent features\n",
    "X = data # independent features\n",
    "y = target #target / dependent"
   ]
  },
  {
   "cell_type": "code",
   "execution_count": 59,
   "metadata": {},
   "outputs": [],
   "source": [
    "#splitting to train and test sets\n",
    "from sklearn.model_selection import train_test_split\n",
    "X_train , X_test , y_train , y_test  = train_test_split(X,y,test_size= 0.33 , random_state=0)"
   ]
  },
  {
   "cell_type": "code",
   "execution_count": 60,
   "metadata": {},
   "outputs": [],
   "source": [
    "# Importing the KNN classifier algorithm\n",
    "from sklearn.neighbors import KNeighborsRegressor\n",
    "regressor = KNeighborsRegressor()"
   ]
  },
  {
   "cell_type": "code",
   "execution_count": 61,
   "metadata": {},
   "outputs": [
    {
     "data": {
      "text/html": [
       "<style>#sk-container-id-2 {color: black;background-color: white;}#sk-container-id-2 pre{padding: 0;}#sk-container-id-2 div.sk-toggleable {background-color: white;}#sk-container-id-2 label.sk-toggleable__label {cursor: pointer;display: block;width: 100%;margin-bottom: 0;padding: 0.3em;box-sizing: border-box;text-align: center;}#sk-container-id-2 label.sk-toggleable__label-arrow:before {content: \"▸\";float: left;margin-right: 0.25em;color: #696969;}#sk-container-id-2 label.sk-toggleable__label-arrow:hover:before {color: black;}#sk-container-id-2 div.sk-estimator:hover label.sk-toggleable__label-arrow:before {color: black;}#sk-container-id-2 div.sk-toggleable__content {max-height: 0;max-width: 0;overflow: hidden;text-align: left;background-color: #f0f8ff;}#sk-container-id-2 div.sk-toggleable__content pre {margin: 0.2em;color: black;border-radius: 0.25em;background-color: #f0f8ff;}#sk-container-id-2 input.sk-toggleable__control:checked~div.sk-toggleable__content {max-height: 200px;max-width: 100%;overflow: auto;}#sk-container-id-2 input.sk-toggleable__control:checked~label.sk-toggleable__label-arrow:before {content: \"▾\";}#sk-container-id-2 div.sk-estimator input.sk-toggleable__control:checked~label.sk-toggleable__label {background-color: #d4ebff;}#sk-container-id-2 div.sk-label input.sk-toggleable__control:checked~label.sk-toggleable__label {background-color: #d4ebff;}#sk-container-id-2 input.sk-hidden--visually {border: 0;clip: rect(1px 1px 1px 1px);clip: rect(1px, 1px, 1px, 1px);height: 1px;margin: -1px;overflow: hidden;padding: 0;position: absolute;width: 1px;}#sk-container-id-2 div.sk-estimator {font-family: monospace;background-color: #f0f8ff;border: 1px dotted black;border-radius: 0.25em;box-sizing: border-box;margin-bottom: 0.5em;}#sk-container-id-2 div.sk-estimator:hover {background-color: #d4ebff;}#sk-container-id-2 div.sk-parallel-item::after {content: \"\";width: 100%;border-bottom: 1px solid gray;flex-grow: 1;}#sk-container-id-2 div.sk-label:hover label.sk-toggleable__label {background-color: #d4ebff;}#sk-container-id-2 div.sk-serial::before {content: \"\";position: absolute;border-left: 1px solid gray;box-sizing: border-box;top: 0;bottom: 0;left: 50%;z-index: 0;}#sk-container-id-2 div.sk-serial {display: flex;flex-direction: column;align-items: center;background-color: white;padding-right: 0.2em;padding-left: 0.2em;position: relative;}#sk-container-id-2 div.sk-item {position: relative;z-index: 1;}#sk-container-id-2 div.sk-parallel {display: flex;align-items: stretch;justify-content: center;background-color: white;position: relative;}#sk-container-id-2 div.sk-item::before, #sk-container-id-2 div.sk-parallel-item::before {content: \"\";position: absolute;border-left: 1px solid gray;box-sizing: border-box;top: 0;bottom: 0;left: 50%;z-index: -1;}#sk-container-id-2 div.sk-parallel-item {display: flex;flex-direction: column;z-index: 1;position: relative;background-color: white;}#sk-container-id-2 div.sk-parallel-item:first-child::after {align-self: flex-end;width: 50%;}#sk-container-id-2 div.sk-parallel-item:last-child::after {align-self: flex-start;width: 50%;}#sk-container-id-2 div.sk-parallel-item:only-child::after {width: 0;}#sk-container-id-2 div.sk-dashed-wrapped {border: 1px dashed gray;margin: 0 0.4em 0.5em 0.4em;box-sizing: border-box;padding-bottom: 0.4em;background-color: white;}#sk-container-id-2 div.sk-label label {font-family: monospace;font-weight: bold;display: inline-block;line-height: 1.2em;}#sk-container-id-2 div.sk-label-container {text-align: center;}#sk-container-id-2 div.sk-container {/* jupyter's `normalize.less` sets `[hidden] { display: none; }` but bootstrap.min.css set `[hidden] { display: none !important; }` so we also need the `!important` here to be able to override the default hidden behavior on the sphinx rendered scikit-learn.org. See: https://github.com/scikit-learn/scikit-learn/issues/21755 */display: inline-block !important;position: relative;}#sk-container-id-2 div.sk-text-repr-fallback {display: none;}</style><div id=\"sk-container-id-2\" class=\"sk-top-container\"><div class=\"sk-text-repr-fallback\"><pre>KNeighborsRegressor()</pre><b>In a Jupyter environment, please rerun this cell to show the HTML representation or trust the notebook. <br />On GitHub, the HTML representation is unable to render, please try loading this page with nbviewer.org.</b></div><div class=\"sk-container\" hidden><div class=\"sk-item\"><div class=\"sk-estimator sk-toggleable\"><input class=\"sk-toggleable__control sk-hidden--visually\" id=\"sk-estimator-id-2\" type=\"checkbox\" checked><label for=\"sk-estimator-id-2\" class=\"sk-toggleable__label sk-toggleable__label-arrow\">KNeighborsRegressor</label><div class=\"sk-toggleable__content\"><pre>KNeighborsRegressor()</pre></div></div></div></div></div>"
      ],
      "text/plain": [
       "KNeighborsRegressor()"
      ]
     },
     "execution_count": 61,
     "metadata": {},
     "output_type": "execute_result"
    }
   ],
   "source": [
    "# Training the model\n",
    "regressor.fit(X_train , y_train)"
   ]
  },
  {
   "cell_type": "code",
   "execution_count": 62,
   "metadata": {},
   "outputs": [],
   "source": [
    "# prediction on test set\n",
    "y_pred = regressor.predict(X_test)"
   ]
  },
  {
   "cell_type": "code",
   "execution_count": 68,
   "metadata": {},
   "outputs": [
    {
     "name": "stdout",
     "output_type": "stream",
     "text": [
      "Mean Absolute Error is 4.09\n",
      "Mean Squared Error is 37.20\n",
      "R^2 score is 53.86%\n"
     ]
    }
   ],
   "source": [
    "# Regression metrics\n",
    "from sklearn.metrics import mean_absolute_error , mean_squared_error ,r2_score\n",
    "print(f\"Mean Absolute Error is {mean_absolute_error(y_test,y_pred):.2f}\")\n",
    "print(f\"Mean Squared Error is {mean_squared_error(y_test,y_pred):.2f}\")\n",
    "print(f\"R^2 score is {r2_score(y_test,y_pred):.2%}\")"
   ]
  },
  {
   "cell_type": "markdown",
   "metadata": {},
   "source": [
    "`Q3. Write a Python code snippet to find the optimal value of K for the KNN classifier algorithm using\n",
    "cross-validation on load_iris dataset in sklearn.datasets.`"
   ]
  },
  {
   "cell_type": "code",
   "execution_count": 69,
   "metadata": {},
   "outputs": [],
   "source": [
    "from sklearn.datasets import load_iris\n",
    "iris = load_iris()\n",
    "X = iris.data # independent features\n",
    "y = iris.target #target / dependent"
   ]
  },
  {
   "cell_type": "code",
   "execution_count": 70,
   "metadata": {},
   "outputs": [],
   "source": [
    "#splitting to train and test sets\n",
    "from sklearn.model_selection import train_test_split\n",
    "X_train , X_test , y_train , y_test  = train_test_split(X,y,test_size= 0.33 , random_state=0)"
   ]
  },
  {
   "cell_type": "code",
   "execution_count": 88,
   "metadata": {},
   "outputs": [
    {
     "name": "stdout",
     "output_type": "stream",
     "text": [
      "Fitting 10 folds for each of 14 candidates, totalling 140 fits\n",
      "[CV 1/10] END ....................n_neighbors=1;, score=0.900 total time=   0.0s\n",
      "[CV 2/10] END ....................n_neighbors=1;, score=0.900 total time=   0.0s\n",
      "[CV 3/10] END ....................n_neighbors=1;, score=1.000 total time=   0.0s\n",
      "[CV 4/10] END ....................n_neighbors=1;, score=1.000 total time=   0.0s\n",
      "[CV 5/10] END ....................n_neighbors=1;, score=1.000 total time=   0.0s\n",
      "[CV 6/10] END ....................n_neighbors=1;, score=1.000 total time=   0.0s\n",
      "[CV 7/10] END ....................n_neighbors=1;, score=0.900 total time=   0.0s\n",
      "[CV 8/10] END ....................n_neighbors=1;, score=0.900 total time=   0.0s\n",
      "[CV 9/10] END ....................n_neighbors=1;, score=1.000 total time=   0.0s\n",
      "[CV 10/10] END ...................n_neighbors=1;, score=0.900 total time=   0.0s\n",
      "[CV 1/10] END ....................n_neighbors=2;, score=0.800 total time=   0.0s\n",
      "[CV 2/10] END ....................n_neighbors=2;, score=0.900 total time=   0.0s\n",
      "[CV 3/10] END ....................n_neighbors=2;, score=1.000 total time=   0.0s\n",
      "[CV 4/10] END ....................n_neighbors=2;, score=1.000 total time=   0.0s\n",
      "[CV 5/10] END ....................n_neighbors=2;, score=1.000 total time=   0.0s\n",
      "[CV 6/10] END ....................n_neighbors=2;, score=1.000 total time=   0.0s\n",
      "[CV 7/10] END ....................n_neighbors=2;, score=0.900 total time=   0.0s\n",
      "[CV 8/10] END ....................n_neighbors=2;, score=0.900 total time=   0.0s\n",
      "[CV 9/10] END ....................n_neighbors=2;, score=1.000 total time=   0.0s\n",
      "[CV 10/10] END ...................n_neighbors=2;, score=0.900 total time=   0.0s\n",
      "[CV 1/10] END ....................n_neighbors=3;, score=0.900 total time=   0.0s\n",
      "[CV 2/10] END ....................n_neighbors=3;, score=0.900 total time=   0.0s\n",
      "[CV 3/10] END ....................n_neighbors=3;, score=1.000 total time=   0.0s\n",
      "[CV 4/10] END ....................n_neighbors=3;, score=1.000 total time=   0.0s\n",
      "[CV 5/10] END ....................n_neighbors=3;, score=1.000 total time=   0.0s\n",
      "[CV 6/10] END ....................n_neighbors=3;, score=1.000 total time=   0.0s\n",
      "[CV 7/10] END ....................n_neighbors=3;, score=1.000 total time=   0.0s\n",
      "[CV 8/10] END ....................n_neighbors=3;, score=0.800 total time=   0.0s\n",
      "[CV 9/10] END ....................n_neighbors=3;, score=1.000 total time=   0.0s\n",
      "[CV 10/10] END ...................n_neighbors=3;, score=0.900 total time=   0.0s\n",
      "[CV 1/10] END ....................n_neighbors=4;, score=0.900 total time=   0.0s\n",
      "[CV 2/10] END ....................n_neighbors=4;, score=0.900 total time=   0.0s\n",
      "[CV 3/10] END ....................n_neighbors=4;, score=1.000 total time=   0.0s\n",
      "[CV 4/10] END ....................n_neighbors=4;, score=1.000 total time=   0.0s\n",
      "[CV 5/10] END ....................n_neighbors=4;, score=1.000 total time=   0.0s\n",
      "[CV 6/10] END ....................n_neighbors=4;, score=1.000 total time=   0.0s\n",
      "[CV 7/10] END ....................n_neighbors=4;, score=0.900 total time=   0.0s\n",
      "[CV 8/10] END ....................n_neighbors=4;, score=0.800 total time=   0.0s\n",
      "[CV 9/10] END ....................n_neighbors=4;, score=1.000 total time=   0.0s\n",
      "[CV 10/10] END ...................n_neighbors=4;, score=1.000 total time=   0.0s\n",
      "[CV 1/10] END ....................n_neighbors=5;, score=1.000 total time=   0.0s\n",
      "[CV 2/10] END ....................n_neighbors=5;, score=0.900 total time=   0.0s\n",
      "[CV 3/10] END ....................n_neighbors=5;, score=1.000 total time=   0.0s\n",
      "[CV 4/10] END ....................n_neighbors=5;, score=1.000 total time=   0.0s\n",
      "[CV 5/10] END ....................n_neighbors=5;, score=1.000 total time=   0.0s\n",
      "[CV 6/10] END ....................n_neighbors=5;, score=1.000 total time=   0.0s\n",
      "[CV 7/10] END ....................n_neighbors=5;, score=0.900 total time=   0.0s\n",
      "[CV 8/10] END ....................n_neighbors=5;, score=0.800 total time=   0.0s\n",
      "[CV 9/10] END ....................n_neighbors=5;, score=1.000 total time=   0.0s\n",
      "[CV 10/10] END ...................n_neighbors=5;, score=1.000 total time=   0.0s\n",
      "[CV 1/10] END ....................n_neighbors=6;, score=1.000 total time=   0.0s\n",
      "[CV 2/10] END ....................n_neighbors=6;, score=0.900 total time=   0.0s\n",
      "[CV 3/10] END ....................n_neighbors=6;, score=1.000 total time=   0.0s\n",
      "[CV 4/10] END ....................n_neighbors=6;, score=1.000 total time=   0.0s\n",
      "[CV 5/10] END ....................n_neighbors=6;, score=1.000 total time=   0.0s\n",
      "[CV 6/10] END ....................n_neighbors=6;, score=1.000 total time=   0.0s\n",
      "[CV 7/10] END ....................n_neighbors=6;, score=0.900 total time=   0.0s\n",
      "[CV 8/10] END ....................n_neighbors=6;, score=0.800 total time=   0.0s\n",
      "[CV 9/10] END ....................n_neighbors=6;, score=1.000 total time=   0.0s\n",
      "[CV 10/10] END ...................n_neighbors=6;, score=1.000 total time=   0.0s\n",
      "[CV 1/10] END ....................n_neighbors=7;, score=1.000 total time=   0.0s\n",
      "[CV 2/10] END ....................n_neighbors=7;, score=0.900 total time=   0.0s\n",
      "[CV 3/10] END ....................n_neighbors=7;, score=1.000 total time=   0.0s\n",
      "[CV 4/10] END ....................n_neighbors=7;, score=1.000 total time=   0.0s\n",
      "[CV 5/10] END ....................n_neighbors=7;, score=1.000 total time=   0.0s\n",
      "[CV 6/10] END ....................n_neighbors=7;, score=1.000 total time=   0.0s\n",
      "[CV 7/10] END ....................n_neighbors=7;, score=1.000 total time=   0.0s\n",
      "[CV 8/10] END ....................n_neighbors=7;, score=0.800 total time=   0.0s\n",
      "[CV 9/10] END ....................n_neighbors=7;, score=1.000 total time=   0.0s\n",
      "[CV 10/10] END ...................n_neighbors=7;, score=0.900 total time=   0.0s\n",
      "[CV 1/10] END ....................n_neighbors=8;, score=1.000 total time=   0.0s\n",
      "[CV 2/10] END ....................n_neighbors=8;, score=0.900 total time=   0.0s\n",
      "[CV 3/10] END ....................n_neighbors=8;, score=1.000 total time=   0.0s\n",
      "[CV 4/10] END ....................n_neighbors=8;, score=1.000 total time=   0.0s\n",
      "[CV 5/10] END ....................n_neighbors=8;, score=1.000 total time=   0.0s\n",
      "[CV 6/10] END ....................n_neighbors=8;, score=1.000 total time=   0.0s\n",
      "[CV 7/10] END ....................n_neighbors=8;, score=0.900 total time=   0.0s\n",
      "[CV 8/10] END ....................n_neighbors=8;, score=0.900 total time=   0.0s\n",
      "[CV 9/10] END ....................n_neighbors=8;, score=1.000 total time=   0.0s\n",
      "[CV 10/10] END ...................n_neighbors=8;, score=0.900 total time=   0.0s\n",
      "[CV 1/10] END ....................n_neighbors=9;, score=1.000 total time=   0.0s\n",
      "[CV 2/10] END ....................n_neighbors=9;, score=0.900 total time=   0.0s\n",
      "[CV 3/10] END ....................n_neighbors=9;, score=1.000 total time=   0.0s\n",
      "[CV 4/10] END ....................n_neighbors=9;, score=1.000 total time=   0.0s\n",
      "[CV 5/10] END ....................n_neighbors=9;, score=1.000 total time=   0.0s\n",
      "[CV 6/10] END ....................n_neighbors=9;, score=1.000 total time=   0.0s\n",
      "[CV 7/10] END ....................n_neighbors=9;, score=1.000 total time=   0.0s\n",
      "[CV 8/10] END ....................n_neighbors=9;, score=0.800 total time=   0.0s\n",
      "[CV 9/10] END ....................n_neighbors=9;, score=1.000 total time=   0.0s\n",
      "[CV 10/10] END ...................n_neighbors=9;, score=0.900 total time=   0.0s\n",
      "[CV 1/10] END ...................n_neighbors=10;, score=1.000 total time=   0.0s\n",
      "[CV 2/10] END ...................n_neighbors=10;, score=0.900 total time=   0.0s\n",
      "[CV 3/10] END ...................n_neighbors=10;, score=1.000 total time=   0.0s\n",
      "[CV 4/10] END ...................n_neighbors=10;, score=1.000 total time=   0.0s\n",
      "[CV 5/10] END ...................n_neighbors=10;, score=1.000 total time=   0.0s\n",
      "[CV 6/10] END ...................n_neighbors=10;, score=1.000 total time=   0.0s\n",
      "[CV 7/10] END ...................n_neighbors=10;, score=1.000 total time=   0.0s\n",
      "[CV 8/10] END ...................n_neighbors=10;, score=0.800 total time=   0.0s\n",
      "[CV 9/10] END ...................n_neighbors=10;, score=1.000 total time=   0.0s\n",
      "[CV 10/10] END ..................n_neighbors=10;, score=0.900 total time=   0.0s\n",
      "[CV 1/10] END ...................n_neighbors=20;, score=1.000 total time=   0.0s\n",
      "[CV 2/10] END ...................n_neighbors=20;, score=0.900 total time=   0.0s\n",
      "[CV 3/10] END ...................n_neighbors=20;, score=1.000 total time=   0.0s\n",
      "[CV 4/10] END ...................n_neighbors=20;, score=0.900 total time=   0.0s\n",
      "[CV 5/10] END ...................n_neighbors=20;, score=1.000 total time=   0.0s\n",
      "[CV 6/10] END ...................n_neighbors=20;, score=1.000 total time=   0.0s\n",
      "[CV 7/10] END ...................n_neighbors=20;, score=0.900 total time=   0.0s\n",
      "[CV 8/10] END ...................n_neighbors=20;, score=0.800 total time=   0.0s\n",
      "[CV 9/10] END ...................n_neighbors=20;, score=1.000 total time=   0.0s\n",
      "[CV 10/10] END ..................n_neighbors=20;, score=0.900 total time=   0.0s\n",
      "[CV 1/10] END ...................n_neighbors=30;, score=0.900 total time=   0.0s\n",
      "[CV 2/10] END ...................n_neighbors=30;, score=0.900 total time=   0.0s\n",
      "[CV 3/10] END ...................n_neighbors=30;, score=1.000 total time=   0.0s\n",
      "[CV 4/10] END ...................n_neighbors=30;, score=0.900 total time=   0.0s\n",
      "[CV 5/10] END ...................n_neighbors=30;, score=0.900 total time=   0.0s\n",
      "[CV 6/10] END ...................n_neighbors=30;, score=1.000 total time=   0.0s\n",
      "[CV 7/10] END ...................n_neighbors=30;, score=0.900 total time=   0.0s\n",
      "[CV 8/10] END ...................n_neighbors=30;, score=0.900 total time=   0.0s\n",
      "[CV 9/10] END ...................n_neighbors=30;, score=1.000 total time=   0.0s\n",
      "[CV 10/10] END ..................n_neighbors=30;, score=1.000 total time=   0.0s\n",
      "[CV 1/10] END ...................n_neighbors=40;, score=0.800 total time=   0.0s\n",
      "[CV 2/10] END ...................n_neighbors=40;, score=0.800 total time=   0.0s\n",
      "[CV 3/10] END ...................n_neighbors=40;, score=1.000 total time=   0.0s\n",
      "[CV 4/10] END ...................n_neighbors=40;, score=0.900 total time=   0.0s\n",
      "[CV 5/10] END ...................n_neighbors=40;, score=0.900 total time=   0.0s\n",
      "[CV 6/10] END ...................n_neighbors=40;, score=1.000 total time=   0.0s\n",
      "[CV 7/10] END ...................n_neighbors=40;, score=0.900 total time=   0.0s\n",
      "[CV 8/10] END ...................n_neighbors=40;, score=0.900 total time=   0.0s\n",
      "[CV 9/10] END ...................n_neighbors=40;, score=1.000 total time=   0.0s\n",
      "[CV 10/10] END ..................n_neighbors=40;, score=0.900 total time=   0.0s\n",
      "[CV 1/10] END ...................n_neighbors=50;, score=0.900 total time=   0.0s\n",
      "[CV 2/10] END ...................n_neighbors=50;, score=0.700 total time=   0.0s\n",
      "[CV 3/10] END ...................n_neighbors=50;, score=0.900 total time=   0.0s\n",
      "[CV 4/10] END ...................n_neighbors=50;, score=0.800 total time=   0.0s\n",
      "[CV 5/10] END ...................n_neighbors=50;, score=0.900 total time=   0.0s\n",
      "[CV 6/10] END ...................n_neighbors=50;, score=1.000 total time=   0.0s\n",
      "[CV 7/10] END ...................n_neighbors=50;, score=0.900 total time=   0.0s\n",
      "[CV 8/10] END ...................n_neighbors=50;, score=0.900 total time=   0.0s\n",
      "[CV 9/10] END ...................n_neighbors=50;, score=1.000 total time=   0.0s\n",
      "[CV 10/10] END ..................n_neighbors=50;, score=0.900 total time=   0.0s\n"
     ]
    },
    {
     "data": {
      "text/html": [
       "<style>#sk-container-id-9 {color: black;background-color: white;}#sk-container-id-9 pre{padding: 0;}#sk-container-id-9 div.sk-toggleable {background-color: white;}#sk-container-id-9 label.sk-toggleable__label {cursor: pointer;display: block;width: 100%;margin-bottom: 0;padding: 0.3em;box-sizing: border-box;text-align: center;}#sk-container-id-9 label.sk-toggleable__label-arrow:before {content: \"▸\";float: left;margin-right: 0.25em;color: #696969;}#sk-container-id-9 label.sk-toggleable__label-arrow:hover:before {color: black;}#sk-container-id-9 div.sk-estimator:hover label.sk-toggleable__label-arrow:before {color: black;}#sk-container-id-9 div.sk-toggleable__content {max-height: 0;max-width: 0;overflow: hidden;text-align: left;background-color: #f0f8ff;}#sk-container-id-9 div.sk-toggleable__content pre {margin: 0.2em;color: black;border-radius: 0.25em;background-color: #f0f8ff;}#sk-container-id-9 input.sk-toggleable__control:checked~div.sk-toggleable__content {max-height: 200px;max-width: 100%;overflow: auto;}#sk-container-id-9 input.sk-toggleable__control:checked~label.sk-toggleable__label-arrow:before {content: \"▾\";}#sk-container-id-9 div.sk-estimator input.sk-toggleable__control:checked~label.sk-toggleable__label {background-color: #d4ebff;}#sk-container-id-9 div.sk-label input.sk-toggleable__control:checked~label.sk-toggleable__label {background-color: #d4ebff;}#sk-container-id-9 input.sk-hidden--visually {border: 0;clip: rect(1px 1px 1px 1px);clip: rect(1px, 1px, 1px, 1px);height: 1px;margin: -1px;overflow: hidden;padding: 0;position: absolute;width: 1px;}#sk-container-id-9 div.sk-estimator {font-family: monospace;background-color: #f0f8ff;border: 1px dotted black;border-radius: 0.25em;box-sizing: border-box;margin-bottom: 0.5em;}#sk-container-id-9 div.sk-estimator:hover {background-color: #d4ebff;}#sk-container-id-9 div.sk-parallel-item::after {content: \"\";width: 100%;border-bottom: 1px solid gray;flex-grow: 1;}#sk-container-id-9 div.sk-label:hover label.sk-toggleable__label {background-color: #d4ebff;}#sk-container-id-9 div.sk-serial::before {content: \"\";position: absolute;border-left: 1px solid gray;box-sizing: border-box;top: 0;bottom: 0;left: 50%;z-index: 0;}#sk-container-id-9 div.sk-serial {display: flex;flex-direction: column;align-items: center;background-color: white;padding-right: 0.2em;padding-left: 0.2em;position: relative;}#sk-container-id-9 div.sk-item {position: relative;z-index: 1;}#sk-container-id-9 div.sk-parallel {display: flex;align-items: stretch;justify-content: center;background-color: white;position: relative;}#sk-container-id-9 div.sk-item::before, #sk-container-id-9 div.sk-parallel-item::before {content: \"\";position: absolute;border-left: 1px solid gray;box-sizing: border-box;top: 0;bottom: 0;left: 50%;z-index: -1;}#sk-container-id-9 div.sk-parallel-item {display: flex;flex-direction: column;z-index: 1;position: relative;background-color: white;}#sk-container-id-9 div.sk-parallel-item:first-child::after {align-self: flex-end;width: 50%;}#sk-container-id-9 div.sk-parallel-item:last-child::after {align-self: flex-start;width: 50%;}#sk-container-id-9 div.sk-parallel-item:only-child::after {width: 0;}#sk-container-id-9 div.sk-dashed-wrapped {border: 1px dashed gray;margin: 0 0.4em 0.5em 0.4em;box-sizing: border-box;padding-bottom: 0.4em;background-color: white;}#sk-container-id-9 div.sk-label label {font-family: monospace;font-weight: bold;display: inline-block;line-height: 1.2em;}#sk-container-id-9 div.sk-label-container {text-align: center;}#sk-container-id-9 div.sk-container {/* jupyter's `normalize.less` sets `[hidden] { display: none; }` but bootstrap.min.css set `[hidden] { display: none !important; }` so we also need the `!important` here to be able to override the default hidden behavior on the sphinx rendered scikit-learn.org. See: https://github.com/scikit-learn/scikit-learn/issues/21755 */display: inline-block !important;position: relative;}#sk-container-id-9 div.sk-text-repr-fallback {display: none;}</style><div id=\"sk-container-id-9\" class=\"sk-top-container\"><div class=\"sk-text-repr-fallback\"><pre>GridSearchCV(cv=10, estimator=KNeighborsClassifier(),\n",
       "             param_grid={&#x27;n_neighbors&#x27;: [1, 2, 3, 4, 5, 6, 7, 8, 9, 10, 20, 30,\n",
       "                                         40, 50]},\n",
       "             scoring=&#x27;accuracy&#x27;, verbose=3)</pre><b>In a Jupyter environment, please rerun this cell to show the HTML representation or trust the notebook. <br />On GitHub, the HTML representation is unable to render, please try loading this page with nbviewer.org.</b></div><div class=\"sk-container\" hidden><div class=\"sk-item sk-dashed-wrapped\"><div class=\"sk-label-container\"><div class=\"sk-label sk-toggleable\"><input class=\"sk-toggleable__control sk-hidden--visually\" id=\"sk-estimator-id-21\" type=\"checkbox\" ><label for=\"sk-estimator-id-21\" class=\"sk-toggleable__label sk-toggleable__label-arrow\">GridSearchCV</label><div class=\"sk-toggleable__content\"><pre>GridSearchCV(cv=10, estimator=KNeighborsClassifier(),\n",
       "             param_grid={&#x27;n_neighbors&#x27;: [1, 2, 3, 4, 5, 6, 7, 8, 9, 10, 20, 30,\n",
       "                                         40, 50]},\n",
       "             scoring=&#x27;accuracy&#x27;, verbose=3)</pre></div></div></div><div class=\"sk-parallel\"><div class=\"sk-parallel-item\"><div class=\"sk-item\"><div class=\"sk-label-container\"><div class=\"sk-label sk-toggleable\"><input class=\"sk-toggleable__control sk-hidden--visually\" id=\"sk-estimator-id-22\" type=\"checkbox\" ><label for=\"sk-estimator-id-22\" class=\"sk-toggleable__label sk-toggleable__label-arrow\">estimator: KNeighborsClassifier</label><div class=\"sk-toggleable__content\"><pre>KNeighborsClassifier()</pre></div></div></div><div class=\"sk-serial\"><div class=\"sk-item\"><div class=\"sk-estimator sk-toggleable\"><input class=\"sk-toggleable__control sk-hidden--visually\" id=\"sk-estimator-id-23\" type=\"checkbox\" ><label for=\"sk-estimator-id-23\" class=\"sk-toggleable__label sk-toggleable__label-arrow\">KNeighborsClassifier</label><div class=\"sk-toggleable__content\"><pre>KNeighborsClassifier()</pre></div></div></div></div></div></div></div></div></div></div>"
      ],
      "text/plain": [
       "GridSearchCV(cv=10, estimator=KNeighborsClassifier(),\n",
       "             param_grid={'n_neighbors': [1, 2, 3, 4, 5, 6, 7, 8, 9, 10, 20, 30,\n",
       "                                         40, 50]},\n",
       "             scoring='accuracy', verbose=3)"
      ]
     },
     "execution_count": 88,
     "metadata": {},
     "output_type": "execute_result"
    }
   ],
   "source": [
    "# Importing the KNN classifier algorithm\n",
    "from sklearn.neighbors import KNeighborsClassifier\n",
    "from sklearn.model_selection import GridSearchCV\n",
    "classifier = KNeighborsClassifier()\n",
    "params = {\"n_neighbors\":[1,2,3,4,5,6,7,8,9,10,20,30,40,50]}\n",
    "clf = GridSearchCV(classifier,param_grid=params ,scoring=\"accuracy\",cv=10 , verbose= 3)\n",
    "clf.fit(X_train,y_train)"
   ]
  },
  {
   "cell_type": "code",
   "execution_count": 99,
   "metadata": {},
   "outputs": [
    {
     "name": "stdout",
     "output_type": "stream",
     "text": [
      "Best value of k in KNN classifier is {'n_neighbors': 5} \n",
      "Best accuracy score is 96.00% \n"
     ]
    }
   ],
   "source": [
    "print(f\"Best value of k in KNN classifier is {clf.best_params_} \")\n",
    "print(f\"Best accuracy score is {clf.best_score_:.2%} \")"
   ]
  },
  {
   "cell_type": "markdown",
   "metadata": {},
   "source": [
    "`Q4. Implement the KNN regressor algorithm with feature scaling on load_boston dataset in\n",
    "sklearn.datasets.`"
   ]
  },
  {
   "cell_type": "code",
   "execution_count": null,
   "metadata": {},
   "outputs": [],
   "source": [
    "data_url = \"http://lib.stat.cmu.edu/datasets/boston\"\n",
    "raw_df = pd.read_csv(data_url, sep=\"\\s+\", skiprows=22, header=None)\n",
    "data = np.hstack([raw_df.values[::2, :], raw_df.values[1::2, :2]])\n",
    "target = raw_df.values[1::2, 2]\n",
    "#separating dependent and independent features\n",
    "X = data # independent features\n",
    "y = target #target / dependent\n",
    "#splitting to train and test sets\n",
    "from sklearn.model_selection import train_test_split\n",
    "X_train , X_test , y_train , y_test  = train_test_split(X,y,test_size= 0.33 , random_state=0)"
   ]
  },
  {
   "cell_type": "code",
   "execution_count": 101,
   "metadata": {},
   "outputs": [],
   "source": [
    "#feature scaling using standard scaler\n",
    "from sklearn.preprocessing import StandardScaler\n",
    "scaler = StandardScaler()\n",
    "x_train_scaled = scaler.fit_transform(X_train)\n",
    "x_test_scaled = scaler.transform(X_test)"
   ]
  },
  {
   "cell_type": "code",
   "execution_count": 102,
   "metadata": {},
   "outputs": [
    {
     "data": {
      "text/html": [
       "<style>#sk-container-id-10 {color: black;background-color: white;}#sk-container-id-10 pre{padding: 0;}#sk-container-id-10 div.sk-toggleable {background-color: white;}#sk-container-id-10 label.sk-toggleable__label {cursor: pointer;display: block;width: 100%;margin-bottom: 0;padding: 0.3em;box-sizing: border-box;text-align: center;}#sk-container-id-10 label.sk-toggleable__label-arrow:before {content: \"▸\";float: left;margin-right: 0.25em;color: #696969;}#sk-container-id-10 label.sk-toggleable__label-arrow:hover:before {color: black;}#sk-container-id-10 div.sk-estimator:hover label.sk-toggleable__label-arrow:before {color: black;}#sk-container-id-10 div.sk-toggleable__content {max-height: 0;max-width: 0;overflow: hidden;text-align: left;background-color: #f0f8ff;}#sk-container-id-10 div.sk-toggleable__content pre {margin: 0.2em;color: black;border-radius: 0.25em;background-color: #f0f8ff;}#sk-container-id-10 input.sk-toggleable__control:checked~div.sk-toggleable__content {max-height: 200px;max-width: 100%;overflow: auto;}#sk-container-id-10 input.sk-toggleable__control:checked~label.sk-toggleable__label-arrow:before {content: \"▾\";}#sk-container-id-10 div.sk-estimator input.sk-toggleable__control:checked~label.sk-toggleable__label {background-color: #d4ebff;}#sk-container-id-10 div.sk-label input.sk-toggleable__control:checked~label.sk-toggleable__label {background-color: #d4ebff;}#sk-container-id-10 input.sk-hidden--visually {border: 0;clip: rect(1px 1px 1px 1px);clip: rect(1px, 1px, 1px, 1px);height: 1px;margin: -1px;overflow: hidden;padding: 0;position: absolute;width: 1px;}#sk-container-id-10 div.sk-estimator {font-family: monospace;background-color: #f0f8ff;border: 1px dotted black;border-radius: 0.25em;box-sizing: border-box;margin-bottom: 0.5em;}#sk-container-id-10 div.sk-estimator:hover {background-color: #d4ebff;}#sk-container-id-10 div.sk-parallel-item::after {content: \"\";width: 100%;border-bottom: 1px solid gray;flex-grow: 1;}#sk-container-id-10 div.sk-label:hover label.sk-toggleable__label {background-color: #d4ebff;}#sk-container-id-10 div.sk-serial::before {content: \"\";position: absolute;border-left: 1px solid gray;box-sizing: border-box;top: 0;bottom: 0;left: 50%;z-index: 0;}#sk-container-id-10 div.sk-serial {display: flex;flex-direction: column;align-items: center;background-color: white;padding-right: 0.2em;padding-left: 0.2em;position: relative;}#sk-container-id-10 div.sk-item {position: relative;z-index: 1;}#sk-container-id-10 div.sk-parallel {display: flex;align-items: stretch;justify-content: center;background-color: white;position: relative;}#sk-container-id-10 div.sk-item::before, #sk-container-id-10 div.sk-parallel-item::before {content: \"\";position: absolute;border-left: 1px solid gray;box-sizing: border-box;top: 0;bottom: 0;left: 50%;z-index: -1;}#sk-container-id-10 div.sk-parallel-item {display: flex;flex-direction: column;z-index: 1;position: relative;background-color: white;}#sk-container-id-10 div.sk-parallel-item:first-child::after {align-self: flex-end;width: 50%;}#sk-container-id-10 div.sk-parallel-item:last-child::after {align-self: flex-start;width: 50%;}#sk-container-id-10 div.sk-parallel-item:only-child::after {width: 0;}#sk-container-id-10 div.sk-dashed-wrapped {border: 1px dashed gray;margin: 0 0.4em 0.5em 0.4em;box-sizing: border-box;padding-bottom: 0.4em;background-color: white;}#sk-container-id-10 div.sk-label label {font-family: monospace;font-weight: bold;display: inline-block;line-height: 1.2em;}#sk-container-id-10 div.sk-label-container {text-align: center;}#sk-container-id-10 div.sk-container {/* jupyter's `normalize.less` sets `[hidden] { display: none; }` but bootstrap.min.css set `[hidden] { display: none !important; }` so we also need the `!important` here to be able to override the default hidden behavior on the sphinx rendered scikit-learn.org. See: https://github.com/scikit-learn/scikit-learn/issues/21755 */display: inline-block !important;position: relative;}#sk-container-id-10 div.sk-text-repr-fallback {display: none;}</style><div id=\"sk-container-id-10\" class=\"sk-top-container\"><div class=\"sk-text-repr-fallback\"><pre>KNeighborsRegressor()</pre><b>In a Jupyter environment, please rerun this cell to show the HTML representation or trust the notebook. <br />On GitHub, the HTML representation is unable to render, please try loading this page with nbviewer.org.</b></div><div class=\"sk-container\" hidden><div class=\"sk-item\"><div class=\"sk-estimator sk-toggleable\"><input class=\"sk-toggleable__control sk-hidden--visually\" id=\"sk-estimator-id-24\" type=\"checkbox\" checked><label for=\"sk-estimator-id-24\" class=\"sk-toggleable__label sk-toggleable__label-arrow\">KNeighborsRegressor</label><div class=\"sk-toggleable__content\"><pre>KNeighborsRegressor()</pre></div></div></div></div></div>"
      ],
      "text/plain": [
       "KNeighborsRegressor()"
      ]
     },
     "execution_count": 102,
     "metadata": {},
     "output_type": "execute_result"
    }
   ],
   "source": [
    "# Importing the KNN classifier algorithm\n",
    "from sklearn.neighbors import KNeighborsRegressor\n",
    "regressor = KNeighborsRegressor()\n",
    "regressor.fit(x_train_scaled,y_train)"
   ]
  },
  {
   "cell_type": "code",
   "execution_count": 103,
   "metadata": {},
   "outputs": [],
   "source": [
    "y_pred = regressor.predict(x_test_scaled)"
   ]
  },
  {
   "cell_type": "code",
   "execution_count": 104,
   "metadata": {},
   "outputs": [
    {
     "name": "stdout",
     "output_type": "stream",
     "text": [
      "Mean Absolute Error is 0.09\n",
      "Mean Squared Error is 0.04\n",
      "R^2 score is 93.29%\n"
     ]
    }
   ],
   "source": [
    "# Regression metrics\n",
    "from sklearn.metrics import mean_absolute_error , mean_squared_error ,r2_score\n",
    "print(f\"Mean Absolute Error is {mean_absolute_error(y_test,y_pred):.2f}\")\n",
    "print(f\"Mean Squared Error is {mean_squared_error(y_test,y_pred):.2f}\")\n",
    "print(f\"R^2 score is {r2_score(y_test,y_pred):.2%}\")"
   ]
  },
  {
   "cell_type": "markdown",
   "metadata": {},
   "source": [
    "`Q5. Write a Python code snippet to implement the KNN classifier algorithm with weighted voting on\n",
    "load_iris dataset in sklearn.datasets.`"
   ]
  },
  {
   "cell_type": "code",
   "execution_count": 118,
   "metadata": {},
   "outputs": [
    {
     "name": "stdout",
     "output_type": "stream",
     "text": [
      "accuracy score is 98.00%\n",
      "\n",
      "Classification reprot: \n",
      "              precision    recall  f1-score   support\n",
      "\n",
      "           0       1.00      1.00      1.00        16\n",
      "           1       1.00      0.95      0.97        19\n",
      "           2       0.94      1.00      0.97        15\n",
      "\n",
      "    accuracy                           0.98        50\n",
      "   macro avg       0.98      0.98      0.98        50\n",
      "weighted avg       0.98      0.98      0.98        50\n",
      "\n"
     ]
    },
    {
     "data": {
      "image/png": "[encoded data removed]",
      "text/plain": [
       "<Figure size 640x480 with 2 Axes>"
      ]
     },
     "metadata": {},
     "output_type": "display_data"
    }
   ],
   "source": [
    "#loading the dataset\n",
    "from sklearn.datasets import load_iris\n",
    "iris = load_iris()\n",
    "\n",
    "\n",
    "#separating dependent and independent features\n",
    "X = iris.data # independent features\n",
    "y = iris.target #target / dependent\n",
    "\n",
    "\n",
    "#splitting to train and test sets\n",
    "from sklearn.model_selection import train_test_split\n",
    "X_train , X_test , y_train , y_test  = train_test_split(X,y,test_size= 0.33 , random_state=0)\n",
    "\n",
    "\n",
    "# Importing the KNN classifier algorithm\n",
    "from sklearn.neighbors import KNeighborsClassifier\n",
    "classifier = KNeighborsClassifier(weights=\"distance\") # KNN classifier with weighted voting \n",
    "# Done by setting the weights parameter to 'distance'. \n",
    "# This means that the weight of each vote is inversely proportional to \n",
    "# the distance between the test point and the training points.\n",
    "\n",
    "\n",
    "# Training the model\n",
    "classifier.fit(X_train , y_train)\n",
    "# prediction on test set\n",
    "y_pred = classifier.predict(X_test)\n",
    "## Classification metrics\n",
    "from sklearn.metrics import confusion_matrix , accuracy_score , classification_report, ConfusionMatrixDisplay \n",
    "display = ConfusionMatrixDisplay(confusion_matrix(y_test,y_pred),display_labels=classifier.classes_)\n",
    "display.plot()\n",
    "plt.title(\"Confusion matrix for iris dataset with KNN classifier\" , weight = \"bold\" , size = 10)\n",
    "print(f\"accuracy score is {accuracy_score(y_test,y_pred):.2%}\")\n",
    "print(f\"\\nClassification reprot: \\n{classification_report(y_test,y_pred)}\")"
   ]
  },
  {
   "cell_type": "markdown",
   "metadata": {},
   "source": [
    "`Q6. Implement a function to standardise the features before applying KNN classifier.`"
   ]
  },
  {
   "cell_type": "code",
   "execution_count": 119,
   "metadata": {},
   "outputs": [
    {
     "name": "stdout",
     "output_type": "stream",
     "text": [
      "accuracy score is 96.00%\n",
      "\n",
      "Classification reprot: \n",
      "              precision    recall  f1-score   support\n",
      "\n",
      "           0       1.00      1.00      1.00        16\n",
      "           1       0.95      0.95      0.95        19\n",
      "           2       0.93      0.93      0.93        15\n",
      "\n",
      "    accuracy                           0.96        50\n",
      "   macro avg       0.96      0.96      0.96        50\n",
      "weighted avg       0.96      0.96      0.96        50\n",
      "\n"
     ]
    },
    {
     "data": {
      "image/png": "[encoded data removed]",
      "text/plain": [
       "<Figure size 640x480 with 2 Axes>"
      ]
     },
     "metadata": {},
     "output_type": "display_data"
    }
   ],
   "source": [
    "#loading the dataset\n",
    "from sklearn.datasets import load_iris\n",
    "iris = load_iris()\n",
    "\n",
    "\n",
    "#separating dependent and independent features\n",
    "X = iris.data # independent features\n",
    "y = iris.target #target / dependent\n",
    "\n",
    "\n",
    "#splitting to train and test sets\n",
    "from sklearn.model_selection import train_test_split\n",
    "X_train , X_test , y_train , y_test  = train_test_split(X,y,test_size= 0.33 , random_state=0)\n",
    "\n",
    "\n",
    "#Standradising the features using standard scaling\n",
    "from sklearn.preprocessing import StandardScaler\n",
    "scaler = StandardScaler()\n",
    "x_train_scaled = scaler.fit_transform(X_train) # standardising the X_train\n",
    "x_test_scaled = scaler.transform(X_test) # standardising the X_test\n",
    "\n",
    "\n",
    "# Importing the KNN classifier algorithm\n",
    "from sklearn.neighbors import KNeighborsClassifier\n",
    "classifier = KNeighborsClassifier(weights=\"distance\") # KNN classifier with weighted voting \n",
    "# Done by setting the weights parameter to 'distance'. \n",
    "# This means that the weight of each vote is inversely proportional to \n",
    "# the distance between the test point and the training points.\n",
    "\n",
    "\n",
    "# Training the model\n",
    "classifier.fit(x_train_scaled , y_train)\n",
    "# prediction on test set\n",
    "y_pred = classifier.predict(x_test_scaled)\n",
    "## Classification metrics\n",
    "from sklearn.metrics import confusion_matrix , accuracy_score , classification_report, ConfusionMatrixDisplay \n",
    "display = ConfusionMatrixDisplay(confusion_matrix(y_test,y_pred),display_labels=classifier.classes_)\n",
    "display.plot()\n",
    "plt.title(\"Confusion matrix for iris dataset with KNN classifier\" , weight = \"bold\" , size = 10)\n",
    "print(f\"accuracy score is {accuracy_score(y_test,y_pred):.2%}\")\n",
    "print(f\"\\nClassification reprot: \\n{classification_report(y_test,y_pred)}\")"
   ]
  },
  {
   "attachments": {},
   "cell_type": "markdown",
   "metadata": {},
   "source": [
    "`Q7. Write a Python function to calculate the euclidean distance between two points.`"
   ]
  },
  {
   "cell_type": "code",
   "execution_count": 145,
   "metadata": {},
   "outputs": [
    {
     "name": "stdout",
     "output_type": "stream",
     "text": [
      "The euclidean distance between (4, 5) and (10, 12) is 9.22\n"
     ]
    }
   ],
   "source": [
    "def euclidean_distance(a,b):\n",
    "    \"\"\"input: a and b are 2 - D points with respective x and y co-ordinates represented as tuple\n",
    "       output: Euclidean distance bewteen a and b is printed as a string\n",
    "    \"\"\"\n",
    "    import math\n",
    "    d = math.sqrt((a[0]-b[0])**2 + (a[1]-b[1])**2)\n",
    "    print(f\"The euclidean distance between {a} and {b} is {d:.2f}\")\n",
    "\n",
    "    \n",
    "euclidean_distance((4,5),(10,12))"
   ]
  },
  {
   "cell_type": "markdown",
   "metadata": {},
   "source": [
    "`Q8. Write a Python function to calculate the manhattan distance between two points.`"
   ]
  },
  {
   "cell_type": "code",
   "execution_count": 146,
   "metadata": {},
   "outputs": [
    {
     "name": "stdout",
     "output_type": "stream",
     "text": [
      "The manhattan distance between (4, 5) and (10, 12) is 13\n"
     ]
    }
   ],
   "source": [
    "def manhattan_distance(a,b):\n",
    "    \"\"\"input: a and b are 2 - D points with respective x and y co-ordinates represented as tuple\n",
    "       output: Manhattan distance bewteen a and b is printed as a string\n",
    "    \"\"\"\n",
    "\n",
    "    d = abs(a[0]-b[0]) + abs(a[1]-b[1])\n",
    "    print(f\"The manhattan distance between {a} and {b} is {d}\")\n",
    "\n",
    "manhattan_distance((4,5),(10,12))"
   ]
  }
 ],
 "metadata": {
  "kernelspec": {
   "display_name": "base",
   "language": "python",
   "name": "python3"
  },
  "language_info": {
   "codemirror_mode": {
    "name": "ipython",
    "version": 3
   },
   "file_extension": ".py",
   "mimetype": "text/x-python",
   "name": "python",
   "nbconvert_exporter": "python",
   "pygments_lexer": "ipython3",
   "version": "3.9.16"
  },
  "orig_nbformat": 4
 },
 "nbformat": 4,
 "nbformat_minor": 2
}
