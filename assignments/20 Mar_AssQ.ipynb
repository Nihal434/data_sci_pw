{
 "cells": [
  {
   "cell_type": "markdown",
   "id": "50575a6a-5d5e-48ea-b02a-4f9fc96b8d04",
   "metadata": {},
   "source": [
    "# **`Feature Engineering-4`**"
   ]
  },
  {
   "cell_type": "markdown",
   "id": "13950499-7bf7-4620-9522-5863608f0089",
   "metadata": {},
   "source": [
    "`Q1. What is data encoding? How is it useful in data science?`"
   ]
  },
  {
   "cell_type": "markdown",
   "id": "413c2122-2310-4761-8d5b-910156ae6475",
   "metadata": {},
   "source": [
    "Data encoding is the process of converting data from one format to another for the purpose of efficient transmission, storage, or processing. In data science, encoding is a crucial step in data preparation that involves transforming raw data into a form that can be used by machine learning algorithms.\n",
    "\n",
    "There are different types of data encoding techniques, such as one-hot encoding, label encoding, and binary encoding. One hot encoding, also known as nominal encoding, is a technique used to represent categorical data as numerical data, which is more suitable for machine learning algorithms. In this technique, each category is represented as a binary vector where each bit corresponds to a unique category. For example, if we have a categorical variable \"color\" with three possible values (red, green, blue), we can represent it using one hot encoding as follows:\n",
    "\n",
    "Red: [1, 0, 0]\n",
    "Green: [0, 1, 0]\n",
    "Blue: [0, 0, 1]"
   ]
  },
  {
   "cell_type": "markdown",
   "id": "1ef49a49-1ee3-45ca-a3a1-79dd6fb03483",
   "metadata": {},
   "source": [
    "`Q2. What is nominal encoding? Provide an example of how you would use it in a real-world scenario.`"
   ]
  },
  {
   "cell_type": "markdown",
   "id": "adc433ec-e252-4823-a217-dd24c8fba67a",
   "metadata": {},
   "source": [
    "`Nominal encoding` is a type of data encoding technique used to convert categorical variables into numerical features. In nominal encoding, each category in a categorical variable is assigned a unique integer value without any inherent order or rank.\n",
    "\n",
    "For example, suppose we have a dataset of customer reviews for a restaurant, where the \"rating\" column can take one of four values: \"excellent\", \"good\", \"fair\", or \"poor\". We can use nominal encoding to convert the \"rating\" column into a numerical feature by assigning a unique integer value to each category:\n",
    "\n",
    "\"excellent\": 1\n",
    "\"good\": 2\n",
    "\"fair\": 3\n",
    "\"poor\": 4\n",
    "In a real-world scenario, nominal encoding can be useful in various applications. For instance, in a customer feedback analysis system, we may want to analyze customer reviews of a product or service by sentiment. Using nominal encoding, we can convert the \"sentiment\" column, which could take values such as \"positive\", \"negative\", or \"neutral\", into a numerical feature that can be used in machine learning models to predict customer sentiment. By encoding the categorical variable into a numerical feature, we can extract valuable insights from the data and make more informed decisions based on customer feedback."
   ]
  },
  {
   "cell_type": "code",
   "execution_count": 4,
   "id": "966af4a3-4a8f-48a0-9d6e-62097342a4fb",
   "metadata": {},
   "outputs": [],
   "source": [
    "# example\n",
    "\n",
    "## creating a dataframe\n",
    "import pandas as pd\n",
    "df = pd.DataFrame({\n",
    "    \"rating\":[\"excellent\",\"good\",\"poor\",\"fair\",\"fair\",\"excellent\",\"excellent\",\"good\",\"fair\",\"poor\",\"poor\",\"poor\",\"fair\"]\n",
    "})"
   ]
  },
  {
   "cell_type": "code",
   "execution_count": 5,
   "id": "1ec99dc7-d88f-4911-9f31-5c1e1d647fa2",
   "metadata": {},
   "outputs": [
    {
     "data": {
      "text/html": [
       "<div>\n",
       "<style scoped>\n",
       "    .dataframe tbody tr th:only-of-type {\n",
       "        vertical-align: middle;\n",
       "    }\n",
       "\n",
       "    .dataframe tbody tr th {\n",
       "        vertical-align: top;\n",
       "    }\n",
       "\n",
       "    .dataframe thead th {\n",
       "        text-align: right;\n",
       "    }\n",
       "</style>\n",
       "<table border=\"1\" class=\"dataframe\">\n",
       "  <thead>\n",
       "    <tr style=\"text-align: right;\">\n",
       "      <th></th>\n",
       "      <th>rating</th>\n",
       "    </tr>\n",
       "  </thead>\n",
       "  <tbody>\n",
       "    <tr>\n",
       "      <th>0</th>\n",
       "      <td>excellent</td>\n",
       "    </tr>\n",
       "    <tr>\n",
       "      <th>1</th>\n",
       "      <td>good</td>\n",
       "    </tr>\n",
       "    <tr>\n",
       "      <th>2</th>\n",
       "      <td>poor</td>\n",
       "    </tr>\n",
       "    <tr>\n",
       "      <th>3</th>\n",
       "      <td>fair</td>\n",
       "    </tr>\n",
       "    <tr>\n",
       "      <th>4</th>\n",
       "      <td>fair</td>\n",
       "    </tr>\n",
       "  </tbody>\n",
       "</table>\n",
       "</div>"
      ],
      "text/plain": [
       "      rating\n",
       "0  excellent\n",
       "1       good\n",
       "2       poor\n",
       "3       fair\n",
       "4       fair"
      ]
     },
     "execution_count": 5,
     "metadata": {},
     "output_type": "execute_result"
    }
   ],
   "source": [
    "df.head()"
   ]
  },
  {
   "cell_type": "code",
   "execution_count": 8,
   "id": "45e1e7ab-61af-4d3e-b4ff-66b22c3ebc8b",
   "metadata": {},
   "outputs": [],
   "source": [
    "# nominal encoding with \"excellent\": 1 \"good\": 2 \"fair\": 3 \"poor\":4\n",
    "df[\"rating_nominal\"] = df[\"rating\"].replace({\"excellent\": 1,\"good\": 2 ,\"fair\": 3 ,\"poor\":4})"
   ]
  },
  {
   "cell_type": "code",
   "execution_count": 11,
   "id": "45e3ec75-3a50-4bd9-b872-4b4f1786f920",
   "metadata": {},
   "outputs": [
    {
     "data": {
      "text/html": [
       "<div>\n",
       "<style scoped>\n",
       "    .dataframe tbody tr th:only-of-type {\n",
       "        vertical-align: middle;\n",
       "    }\n",
       "\n",
       "    .dataframe tbody tr th {\n",
       "        vertical-align: top;\n",
       "    }\n",
       "\n",
       "    .dataframe thead th {\n",
       "        text-align: right;\n",
       "    }\n",
       "</style>\n",
       "<table border=\"1\" class=\"dataframe\">\n",
       "  <thead>\n",
       "    <tr style=\"text-align: right;\">\n",
       "      <th></th>\n",
       "      <th>rating</th>\n",
       "      <th>rating_nominal</th>\n",
       "    </tr>\n",
       "  </thead>\n",
       "  <tbody>\n",
       "    <tr>\n",
       "      <th>0</th>\n",
       "      <td>excellent</td>\n",
       "      <td>1</td>\n",
       "    </tr>\n",
       "    <tr>\n",
       "      <th>1</th>\n",
       "      <td>good</td>\n",
       "      <td>2</td>\n",
       "    </tr>\n",
       "    <tr>\n",
       "      <th>2</th>\n",
       "      <td>poor</td>\n",
       "      <td>4</td>\n",
       "    </tr>\n",
       "    <tr>\n",
       "      <th>3</th>\n",
       "      <td>fair</td>\n",
       "      <td>3</td>\n",
       "    </tr>\n",
       "    <tr>\n",
       "      <th>4</th>\n",
       "      <td>fair</td>\n",
       "      <td>3</td>\n",
       "    </tr>\n",
       "  </tbody>\n",
       "</table>\n",
       "</div>"
      ],
      "text/plain": [
       "      rating  rating_nominal\n",
       "0  excellent               1\n",
       "1       good               2\n",
       "2       poor               4\n",
       "3       fair               3\n",
       "4       fair               3"
      ]
     },
     "execution_count": 11,
     "metadata": {},
     "output_type": "execute_result"
    }
   ],
   "source": [
    "#final result\n",
    "df.head()"
   ]
  },
  {
   "cell_type": "markdown",
   "id": "023bb5e2-98c2-41a4-b5e2-5010cc4e6fec",
   "metadata": {},
   "source": [
    "`Q3. In what situations is nominal encoding preferred over one-hot encoding? Provide a practical example.`"
   ]
  },
  {
   "cell_type": "markdown",
   "id": "1efd69fb-77fa-4df1-8e92-d7c5ffa51d60",
   "metadata": {},
   "source": [
    "`Nominal encoding` is preferred over `one-hot encoding` in situations where the number of categories in a categorical variable is very large. One-hot encoding creates a new binary feature for each category, which can result in a large number of features and may lead to overfitting, especially when the number of categories is much larger than the number of samples in the dataset.\n",
    "\n",
    "In contrast, nominal encoding assigns a unique integer value to each category, which can reduce the dimensionality of the data and improve the performance of machine learning algorithms. Nominal encoding is also preferred when there is no inherent order or rank among the categories.\n",
    "\n",
    "A practical example where nominal encoding may be preferred over one-hot encoding is in analyzing customer transaction data. Suppose we have a dataset of customer transactions for an e-commerce website, where the \"product category\" column can take one of several hundred values. If we were to use one-hot encoding to convert this categorical variable into numerical features, we would end up with several hundred binary features. This would result in a high-dimensional dataset and may lead to overfitting, especially if the number of samples is limited.\n",
    "\n",
    "On the other hand, using nominal encoding to convert the \"product category\" column into a numerical feature would reduce the dimensionality of the data and help in improving the performance of machine learning algorithms. Nominal encoding would also be preferred here since there is no inherent order or rank among the product categories."
   ]
  },
  {
   "cell_type": "markdown",
   "id": "65d63108-8bda-4e51-b2fa-42a941bae314",
   "metadata": {},
   "source": [
    "`Q4. Suppose you have a dataset containing categorical data with 5 unique values. Which encoding\n",
    "technique would you use to transform this data into a format suitable for machine learning algorithms?\n",
    "Explain why you made this choice.`"
   ]
  },
  {
   "cell_type": "markdown",
   "id": "20812146-7491-4a8a-b5f0-c92c8cd2aff4",
   "metadata": {},
   "source": [
    "The choice of encoding technique depends on the specific characteristics of the data and the requirements of the machine learning algorithm. However, with only 5 unique values in the categorical data, one-hot encoding would be a suitable choice to transform this data into a format suitable for machine learning algorithms.\n",
    "\n",
    "One-hot encoding would create 5 binary features, one for each unique value in the categorical data. Each sample in the dataset would have a value of 1 in the corresponding feature and a value of 0 in all other features. This would allow machine learning algorithms to use the categorical data as input for training models and making predictions.\n",
    "\n",
    "One reason for choosing one-hot encoding in this case is that the number of unique values is relatively small. One-hot encoding is particularly useful when the number of unique values in a categorical variable is small, as it leads to a sparse matrix with a manageable number of columns. Furthermore, one-hot encoding would ensure that the categorical data is treated as nominal data with no inherent order or ranking among the unique values. This is important when using machine learning algorithms that do not assume any ordering among the values of the categorical variable.\n",
    "\n",
    "In summary, one-hot encoding would be a suitable choice to transform categorical data with 5 unique values into a format suitable for machine learning algorithms."
   ]
  },
  {
   "cell_type": "markdown",
   "id": "17e2a7f2-90d1-4f4b-8cea-1e99ab62d2ff",
   "metadata": {},
   "source": [
    "`Q5. In a machine learning project, you have a dataset with 1000 rows and 5 columns. Two of the columns\n",
    "are categorical, and the remaining three columns are numerical. If you were to use nominal encoding to\n",
    "transform the categorical data, how many new columns would be created? Show your calculations.`"
   ]
  },
  {
   "cell_type": "markdown",
   "id": "1e389168-c466-463e-8d80-ac35b8e97552",
   "metadata": {},
   "source": [
    "the total number of new columns created by OHE encoding would be the sum of the number of unique categories in each of the categorical columns.\n",
    "\n",
    "Let's say the first categorical column has 8 unique categories, and the second categorical column has 6 unique categories. Then the total number of new columns created by nominal encoding would be:\n",
    "\n",
    "8 + 6 = 14\n",
    "\n",
    "However if it is Nominal Encoding each unique category withing the column will be assigned a unique integer and the number of columns will not change"
   ]
  },
  {
   "cell_type": "markdown",
   "id": "7cda9499-8f69-4de0-bc42-8dd0dd76ef50",
   "metadata": {},
   "source": [
    "`Q6. You are working with a dataset containing information about different types of animals, including their\n",
    "species, habitat, and diet. Which encoding technique would you use to transform the categorical data into\n",
    "a format suitable for machine learning algorithms? Justify your answer.`"
   ]
  },
  {
   "cell_type": "markdown",
   "id": "0d70600e-c0c5-4132-89a5-6a6975d3cf84",
   "metadata": {},
   "source": [
    "The choice of encoding technique depends on the specific characteristics of the categorical data and the requirements of the machine learning algorithm. However, given the nature of the data and the fact that there are likely multiple unique values in each categorical variable, a combination of nominal encoding and one-hot encoding may be suitable to transform the categorical data into a format suitable for machine learning algorithms.\n",
    "\n",
    "Nominal encoding could be used to convert the categorical data into a numerical format. This involves assigning a unique integer value to each unique category in the categorical variable. For example, each unique species could be assigned a unique integer value, and each unique habitat and diet could also be assigned unique integer values. This approach would allow machine learning algorithms to use the categorical data as input for training models and making predictions.\n",
    "\n",
    "However, since the unique values within the categorical variables are not ordered, one-hot encoding could be used to further encode the nominal encoded features. This involves creating binary features for each unique category within a nominal encoded variable. For example, a binary feature could be created for each unique species, with a value of 1 indicating the presence of that species and a value of 0 indicating the absence of that species. This approach can help to reduce any biases that may be introduced by nominal encoding and allows the model to learn independently for each category.\n",
    "\n",
    "Therefore, a combination of nominal encoding and one-hot encoding may be suitable to transform the categorical data into a format suitable for machine learning algorithms in this case. The specific approach and encoding technique chosen would depend on the specific characteristics of the data and the requirements of the machine learning algorithm being used."
   ]
  },
  {
   "cell_type": "markdown",
   "id": "64eeb378-feaa-4b99-82e2-60826e2b0467",
   "metadata": {},
   "source": [
    "`Q7.You are working on a project that involves predicting customer churn for a telecommunications\n",
    "company. You have a dataset with 5 features, including the customer's gender, age, contract type,\n",
    "monthly charges, and tenure. Which encoding technique(s) would you use to transform the categorical\n",
    "data into numerical data? Provide a step-by-step explanation of how you would implement the encoding.`"
   ]
  },
  {
   "cell_type": "markdown",
   "id": "a6342ad2-1ea1-4902-8f1f-31cd407323f3",
   "metadata": {},
   "source": [
    "To transform the categorical data into numerical data, we can use nominal encoding for the \"gender\" and \"contract type\" features since they have a limited number of unique values. For the \"gender\" feature, we can assign the values 0 and 1 to represent \"male\" and \"female,\" respectively. For the \"contract type\" feature, we can assign the values 0, 1, and 2 to represent \"month-to-month,\" \"one year,\" and \"two year,\" respectively.\n",
    "\n",
    "For the remaining features, we can leave them as numerical data since they already have numerical values.\n",
    "\n",
    "Here are the steps to implement the encoding:\n",
    "\n",
    "1. Load the dataset into a data frame.\n",
    "\n",
    "2. Identify the categorical features, which are \"gender\" and \"contract type.\"\n",
    "\n",
    "3. Create a mapping dictionary to assign numerical values to the categories for each categorical feature. For example:\n",
    "\n",
    "gender_mapping = {'Male': 0, 'Female': 1}<br>\n",
    "contract_mapping = {'Month-to-month': 0, 'One year': 1, 'Two year': 2}<br>\n",
    "\n",
    "4. Apply the mapping to the categorical features using the map() function. For example:\n",
    "\n",
    "df['gender'] = df['gender'].map(gender_mapping)<br>\n",
    "df['contract type'] = df['contract type'].map(contract_mapping)<br>\n",
    "\n",
    "5. The resulting data frame will have the categorical features transformed into numerical data using nominal encoding.\n",
    "\n",
    "It's worth noting that other encoding techniques like one-hot encoding could also be used for the categorical features. However, in this case, given that the number of unique categories in each feature is relatively small, nominal encoding would be sufficient to represent the data in a numerical format."
   ]
  }
 ],
 "metadata": {
  "kernelspec": {
   "display_name": "Python 3 (ipykernel)",
   "language": "python",
   "name": "python3"
  },
  "language_info": {
   "codemirror_mode": {
    "name": "ipython",
    "version": 3
   },
   "file_extension": ".py",
   "mimetype": "text/x-python",
   "name": "python",
   "nbconvert_exporter": "python",
   "pygments_lexer": "ipython3",
   "version": "3.9.16"
  }
 },
 "nbformat": 4,
 "nbformat_minor": 5
}
