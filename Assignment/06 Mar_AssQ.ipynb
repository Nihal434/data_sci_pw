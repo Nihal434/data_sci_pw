{
 "cells": [
  {
   "attachments": {},
   "cell_type": "markdown",
   "metadata": {},
   "source": [
    "# **`Statistics Basic-1`**"
   ]
  },
  {
   "attachments": {},
   "cell_type": "markdown",
   "metadata": {},
   "source": [
    "`Q1. What is Statistics?`"
   ]
  },
  {
   "attachments": {},
   "cell_type": "markdown",
   "metadata": {},
   "source": [
    "Ans1: `Statistics` is the science of collecting, organising and analysing data which plays a key role in decision making. Data here refers to facts or pieces of information"
   ]
  },
  {
   "attachments": {},
   "cell_type": "markdown",
   "metadata": {},
   "source": [
    "`Q2. Define the different types of statistics and give an example of when each type might be used.`"
   ]
  },
  {
   "attachments": {},
   "cell_type": "markdown",
   "metadata": {},
   "source": [
    "Ans 2:\n",
    "\n",
    "Types of statistics include:\n",
    "\n",
    "1. `Descriptive statistics` : It consists of oraganising and summarising the data. It consists of \n",
    "- Meausre of central tendency (mean, mode, median)\n",
    "- Measure of Dispersion (Variance, Standard deviation)\n",
    "- Histogram, bar charts\n",
    "\n",
    "2. `Inferential Statistics` : It consists of drawing conclusions from the data which is collected like drawing conslucions of a sample which is representative of a population being studied. It consists of:\n",
    "- Z - test\n",
    "- t - test\n",
    "- Hypothesis testing\n",
    "- P - value\n",
    "- level of significance"
   ]
  },
  {
   "attachments": {},
   "cell_type": "markdown",
   "metadata": {},
   "source": [
    "`Q3. What are the different types of data and how do they differ from each other? Provide an example of\n",
    "each type of data.`"
   ]
  },
  {
   "attachments": {},
   "cell_type": "markdown",
   "metadata": {},
   "source": [
    "Ans3 : There are 4 Types of Data:\n",
    "\n",
    "`Qualitative Data Type`\n",
    "\n",
    "1. Nominal\n",
    "2. Ordinal\n",
    "\n",
    "`Quantitative Data Type`\n",
    "\n",
    "1. Discrete\n",
    "2. Continuous\n",
    "\n",
    "\n",
    "**`Qualitative Data Type`**\n",
    "\n",
    "Qualitative or Categorical Data describes the object under consideration using a finite set of discrete classes. It means that this type of data can’t be counted or measured easily using numbers and therefore divided into categories. The gender of a person (male, female, or others) is a good example of this data type.\n",
    "\n",
    "These are usually extracted from audio, images, or text medium. Another example can be of a smartphone brand that provides information about the current rating, the color of the phone, category of the phone, and so on. All this information can be categorized as Qualitative data. There are two subcategories under this:\n",
    "\n",
    "*`Nominal`*\n",
    "\n",
    "These are the set of values that don’t possess a natural ordering. Let’s understand this with some examples. The color of a smartphone can be considered as a nominal data type as we can’t compare one color with others.\n",
    "\n",
    "It is not possible to state that ‘Red’ is greater than ‘Blue’. The gender of a person is another one where we can’t differentiate between male, female, or others. Mobile phone categories whether it is midrange, budget segment, or premium smartphone is also nominal data type.\n",
    "\n",
    "Nominal data types in statistics are not quantifiable and cannot be measured through numerical units. Nominal types of statistical data are valuable while conducting qualitative research as it extends freedom of opinion to subjects.\n",
    "\n",
    "*`Ordinal`*\n",
    "\n",
    "These types of values have a natural ordering while maintaining their class of values. If we consider the size of a clothing brand then we can easily sort them according to their name tag in the order of small < medium < large. The grading system while marking candidates in a test can also be considered as an ordinal data type where A+ is definitely better than B grade. \n",
    "\n",
    "These categories help us deciding which encoding strategy can be applied to which type of data. Data encoding for Qualitative data is important because machine learning models can’t handle these values directly and needed to be converted to numerical types as the models are mathematical in nature.\n",
    "\n",
    "For nominal data type where there is no comparison among the categories, one-hot encoding can be applied which is similar to binary coding considering there are in less number and for the ordinal data type, label encoding can be applied which is a form of integer encoding\n",
    "\n",
    "**`Quantitative Data Type`**\n",
    "\n",
    "This data type tries to quantify things and it does by considering numerical values that make it countable in nature. The price of a smartphone, discount offered, number of ratings on a product, the frequency of processor of a smartphone, or ram of that particular phone, all these things fall under the category of Quantitative data types.\n",
    "\n",
    "The key thing is that there can be an infinite number of values a feature can take. For instance, the price of a smartphone can vary from x amount to any value and it can be further broken down based on fractional values. The two subcategories which describe them clearly are:\n",
    "\n",
    "*`Discrete`*\n",
    "\n",
    "The numerical values which fall under are integers or whole numbers are placed under this category. The number of speakers in the phone, cameras, cores in the processor, the number of sims supported all these are some of the examples of the discrete data type.\n",
    "\n",
    "Discrete data types in statistics cannot be measured – it can only be counted as the objects included in discrete data have a fixed value. The value can be represented in decimal, but it has to be whole. Discrete data is often identified through charts, including bar charts, pie charts, and tally charts.\n",
    "\n",
    "*`Continuous`*\n",
    "\n",
    "The fractional numbers are considered as continuous values. These can take the form of the operating frequency of the processors, the android version of the phone, wifi frequency, temperature of the cores, and so on. \n",
    "\n",
    "Unlike discrete data types of data in research, with a whole and fixed value, continuous data can break down into smaller pieces and can take any value. For example, volatile values such as temperature and the weight of a human can be included in the continuous value. Continuous types of statistical data are represented using a graph that easily reflects value fluctuation by the highs and lows of the line through a certain period of time. \n"
   ]
  },
  {
   "attachments": {},
   "cell_type": "markdown",
   "metadata": {},
   "source": [
    "`Q4. Categorise the following datasets with respect to quantitative and qualitative data types:`<br>\n",
    "`(i) Grading in exam: A+, A, B+, B, C+, C, D, E`<br>\n",
    "`(ii) Colour of mangoes: yellow, green, orange, red`<br>\n",
    "`(iii) Height data of a class: [178.9, 179, 179.5, 176, 177.2, 178.3, 175.8,...]`<br>\n",
    "`(iv) Number of mangoes exported by a farm: [500, 600, 478, 672, ...]`<br>"
   ]
  },
  {
   "attachments": {},
   "cell_type": "markdown",
   "metadata": {},
   "source": [
    "(i) Grading in exam : `Qualitative Ordinal`<br>\n",
    "(ii) Colour of mangoes : `Qualitative Nominal`<br>\n",
    "(iii) Height data of a class : `Quantitative Continous`<br>\n",
    "(iv) Number of mangoes exported by a farm : `Quantitative Discrete`<br>"
   ]
  },
  {
   "attachments": {},
   "cell_type": "markdown",
   "metadata": {},
   "source": [
    "`Q5. Explain the concept of levels of measurement and give an example of a variable for each level.`"
   ]
  },
  {
   "attachments": {},
   "cell_type": "markdown",
   "metadata": {},
   "source": [
    "Ans 5: `Levels of measurement`, also called scales of measurement, tell you how precisely variables are recorded. In scientific research, a variable is anything that can take on different values across your data set (e.g., height or test scores).\n",
    "\n",
    "There are 4 levels of measurement:\n",
    "\n",
    "1. `Nominal Scale data` : the data can only be categorized\n",
    "2. `Ordinal Scale data` : the data can be categorized and ranked\n",
    "3. `Interval Scale data` : the data can be categorized, ranked, and evenly spaced\n",
    "4. `Ratio Scale data` : the data can be categorized, ranked, evenly spaced, and has a natural zero.\n",
    "\n",
    "Depending on the level of measurement of the variable, what you can do to analyze your data may be limited. There is a hierarchy in the complexity and precision of the level of measurement, from low (nominal) to high (ratio).\n",
    "\n",
    "\n",
    "`Nominal Scale data` :\n",
    "\n",
    "You can categorize your data by labelling them in mutually exclusive groups, but there is no order between the categories.\n",
    "\n",
    "Eg: City of birth, Gender, Ethnicity, Car brands, Marital status\n",
    "\n",
    "`Ordinal Scale data` : \n",
    "\n",
    "You can categorize and rank your data in an order, but you cannot say anything about the intervals between the rankings.\n",
    "\n",
    "Although you can rank the top 5 Olympic medallists, this scale does not tell you how close or far apart they are in number of wins.\n",
    "\n",
    "Eg: Top 5 Olympic medallists, Language ability (e.g., beginner, intermediate, fluent), Likert-type questions  (e.g., very dissatisfied to very satisfied)\n",
    "\n",
    "`Interval Scale data` : \n",
    "\n",
    "You can categorize, rank, and infer equal intervals between neighboring data points, but there is no true zero point.\n",
    "The difference between any two adjacent temperatures is the same: one degree. But  zero degrees is defined differently depending on the scale – it doesn’t mean an absolute absence of temperature.\n",
    "\n",
    "The same is true for test scores and personality inventories. A zero on a test is arbitrary; it does not mean that the test-taker has an absolute lack of the trait being measured.\n",
    "\n",
    "Eg: Test scores (e.g., IQ or exams), Personality inventories, Temperature in Fahrenheit or Celsius.\n",
    "\n",
    "`Ratio Scale data` : \n",
    "\n",
    "You can categorize, rank, and infer equal intervals between neighboring data points, and there is a true zero point.\n",
    "A true zero means there is an absence of the variable of interest. In ratio scales, zero does mean an absolute lack of the variable.\n",
    "\n",
    "For example, in the Kelvin temperature scale, there are no negative degrees of temperature – zero means an absolute lack of thermal energy.\n",
    "\n",
    "Eg: Height, Age, Weight, Temperature in Kelvin"
   ]
  },
  {
   "attachments": {},
   "cell_type": "markdown",
   "metadata": {},
   "source": [
    "`Q6. Why is it important to understand the level of measurement when analyzing data? Provide an\n",
    "example to illustrate your answer.`"
   ]
  },
  {
   "attachments": {},
   "cell_type": "markdown",
   "metadata": {},
   "source": [
    "Ans 6: The level at which you measure a variable determines how you can analyze your data.\n",
    "\n",
    "The different levels limit which descriptive statistics you can use to get an overall summary of your data, and which type of inferential statistics you can perform on your data to support or refute your hypothesis.\n",
    "\n",
    "In many cases, your variables can be measured at different levels, so you have to choose the level of measurement you will use before data collection begins.\n",
    "\n",
    "Example of a variable at 2 levels of measurement\n",
    "You can measure the variable of income at an ordinal or ratio level.\n",
    " - **Ordinal level**: You create brackets of income ranges: $0–$19,999, $20,000–$39,999, and $40,000–$59,999. You ask participants to select the bracket that represents their annual income. The brackets are coded with numbers from 1–3.\n",
    " - **Ratio level**: You collect data on the exact annual incomes of your participants.\n",
    "\n",
    "\n",
    "      | Participant   | Income (ordinal level)    | Income (ratio level) |\n",
    "      |---------------|---------------------------|----------------------|\n",
    "      |     A         |       Bracket 1           |      $12,550         |\n",
    "      |     B         |       Bracket 2           |      $39,700         |\n",
    "      |     C         |       Bracket 3           |      $40,300         |\n",
    "\n",
    "\n",
    "At a ratio level, you can see that the difference between A and B’s incomes is far greater than the difference between B and C’s incomes.\n",
    "\n",
    "At an ordinal level, however, you only know the income bracket for each participant, not their exact income. Since you cannot say exactly how much each income differs from the others in your data set, you can only order the income levels and group the participants\n",
    "\n"
   ]
  },
  {
   "attachments": {},
   "cell_type": "markdown",
   "metadata": {},
   "source": [
    "`Q7. How nominal data type is different from ordinal data type.`"
   ]
  },
  {
   "attachments": {},
   "cell_type": "markdown",
   "metadata": {},
   "source": [
    "Ans 7 : `Nominal data` is classified without a natural order or rank, whereas `ordinal data` has a predetermined or natural order or rank . On the other hand, numerical or quantitative data will always be a number that can be measured."
   ]
  },
  {
   "attachments": {},
   "cell_type": "markdown",
   "metadata": {},
   "source": [
    "`Q8. Which type of plot can be used to display data in terms of range?`"
   ]
  },
  {
   "attachments": {},
   "cell_type": "markdown",
   "metadata": {},
   "source": [
    "Ans 8 : Histograms, boxplots, and scatterplots."
   ]
  },
  {
   "attachments": {},
   "cell_type": "markdown",
   "metadata": {},
   "source": [
    "`Q9. Describe the difference between descriptive and inferential statistics. Give an example of each\n",
    "type of statistics and explain how they are used.`"
   ]
  },
  {
   "attachments": {},
   "cell_type": "markdown",
   "metadata": {},
   "source": [
    "`Descriptive statistics`\n",
    "\n",
    "Using descriptive statistics, you can report characteristics of your data:\n",
    "\n",
    " - The distribution concerns the frequency of each value.\n",
    " - The central tendency concerns the averages of the values.\n",
    " - The variability concerns how spread out the values are.\n",
    "\n",
    "Example: `Descriptive statistics`\n",
    "\n",
    "You collect data on the test scores of all 10th standard students in a school for three years.\n",
    "You can use descriptive statistics to get a quick overview of the school’s scores in those years. You can then directly compare the mean test score of the school with the mean scores of other schools.\n",
    " \n",
    "In descriptive statistics, there is no uncertainty – the statistics precisely describe the data that you collected. If you collect data from an entire population, you can directly compare these descriptive statistics to those from other populations.\n",
    "\n",
    "`Inferential statistics`\n",
    "\n",
    "Most of the time, you can only acquire data from samples, because it is too difficult or expensive to collect data from the whole population that you’re interested in.\n",
    "\n",
    "While descriptive statistics can only summarize a sample’s characteristics, inferential statistics use your sample to make reasonable guesses about the larger population.\n",
    "\n",
    "With inferential statistics, it’s important to use random and unbiased sampling methods. If your sample isn’t representative of your population, then you can’t make valid statistical inferences or generalize.\n",
    "\n",
    "Example: `Inferential statistics`\n",
    "\n",
    "You randomly select a sample of 10th standard students in your state and collect data on their test scores and other characteristics.You can use inferential statistics to make estimates and test hypotheses about the whole population of 10 standard students in the state based on your sample data."
   ]
  },
  {
   "attachments": {},
   "cell_type": "markdown",
   "metadata": {},
   "source": [
    "`Q10. What are some common measures of central tendency and variability used in statistics? Explain\n",
    "how each measure can be used to describe a dataset.`"
   ]
  },
  {
   "attachments": {},
   "cell_type": "markdown",
   "metadata": {},
   "source": [
    "`Measures of central tendency` are summary statistics that represent the center point or typical value of a dataset. Examples of these measures include the mean, median, and mode\n",
    "\n",
    "\n",
    "- `Mean`\n",
    "The mean is the arithmetic average, and it is probably the measure of central tendency that you are most familiar. Calculating the mean is very simple. You just add up all of the values and divide by the number of observations in your dataset.\n",
    "\n",
    "(x1 + x2 + x3 ..... xn) / n\n",
    "\n",
    "- `Median`\n",
    "The median is the middle value. It is the value that splits the dataset in half, making it a natural measure of central tendency.\n",
    "\n",
    "To find the median, order your data from smallest to largest, and then find the data point that has an equal number of values above it and below it. The method for locating the median varies slightly depending on whether your dataset has an even or odd number of values.\n",
    "\n",
    "When there is an even number of values, you count in to the two innermost values and then take the average. In case of odd values the one in the middle is the median.\n",
    "\n",
    "Outliers and skewed data have a smaller effect on the mean vs median as measures of central tendency. In a skewed distribution, the outliers in the tail pull the mean away from the center towards the longer tail. Statisticians say that the median is a robust statistical while the mean is sensitive to outliers and skewed distributions.\n",
    "\n",
    "- `Mode`\n",
    "\n",
    "The mode is the value that occurs the most frequently in your data set, making it a different type of measure of central tendency than the mean or median.\n",
    "\n",
    "To find the mode, sort the values in your dataset by numeric values or by categories. Then identify the value that occurs most often.\n",
    "\n",
    "\n",
    "`Measures of Variability`\n",
    "\n",
    "In addition to figuring out the measures of central tendency, we may need to summarize the amount of variability we have in our distribution. In other words, we need to determine if the observations tend to cluster together or if they tend to be spread out. \n",
    "\n",
    "- `The Range`\n",
    "The range is the difference between the highest and lowest scores in a data set and is the simplest measure of spread. We calculate range by subtracting the smallest value from the largest value. \n",
    "\n",
    "- `Quartiles and the Interquartile Range`\n",
    "\n",
    "`Quartile` is yet another word that stats geeks use to make themselves feel important. It basically means \"quarter\" or \"fourth.\" A football game has four quartiles, as does a king-size Twix. Finding the quartiles of a distribution is as simple as breaking it up into fourths. Each fourth contains 25 percent of the total number of observations.\n",
    "\n",
    "Quartiles divide a rank-ordered data set into four equal parts. The values that divide each part are called the first, second, and third quartiles; and they are denoted by Q1, Q2, and Q3, respectively.\n",
    "\n",
    "Q1 is the \"middle\" value in the first half of the rank-ordered data set.<br>\n",
    "Q2 is the median value of the data set<br>\n",
    "Q3 is the \"middle\" value of the second half of the rank-ordered data set<br>\n",
    "Q4 would technically be the largest value in the dataset, but we ignore it when calculating the IQR (we already dealt with it when we calculated the range).<br>\n",
    "\n",
    "Thus, the interquartile range is equal to Q3 minus Q1 (or the 75th percentile minus the 25th percentile, if you prefer to think of it that way)\n",
    "\n",
    "- `The Variance`\n",
    "\n",
    "The variance is a measure of variability that represents on how far each observation falls from the mean of the distribution. \n",
    "\n",
    "<img src=\"https://soc.utah.edu/_images/variance.png\" alt = \"formula for variance\">\n",
    "\n",
    "\n",
    " S2x is the notation used to denote the variance of a sample. That giant sigma (Σ) is a summation sign; it just means we're going to be adding things together. The x represents each of our observations, and the x with a line over it (often called \"x-bar\") represents the mean of our distribution. The capital \"N\" on the bottom is the total number of observations. Basically, this formula is telling us to subtract the mean from each of our observations, square the difference, add them all together and divide by N-1. Let's do an example using the above numbers.\n",
    "\n",
    " The bigger the number, the more variability we have in our distribution. Please note: a variance can never be negative. If you come up with a variance that's less than zero, you've done something wrong.\n",
    "\n",
    "- `The Standard Deviation`\n",
    "\n",
    "There is, however, one limitation to using the variance as our only measure of variability. When we square the numbers to get rid of the negatives , we also inadvertently square our unit of measurement. \n",
    "\n",
    "The formula for the standard deviation looks like this:\n",
    "\n",
    "<img src= \"https://soc.utah.edu/_resources/images/stddev.png\">\n",
    "\n",
    "calculating the standard deviation is as simple as taking the square root of the variance, reversing the squaring we did in the calculation of the variance. \n",
    "\n",
    "**`Main Points`**\n",
    "1. Measures of central tendency tell us what is common or typical about our variable.\n",
    "2. Three measures of central tendency are the mode, the median and the mean.\n",
    "3. The mode is used almost exclusively with nominal-level data, as it is the only measure of central tendency available for such variables. The median is used with ordinal-level data or when an interval/ratio-level variable is skewed (think of the Bill Gates example). The mean can only be used with interval/ratio level data.\n",
    "4. Measures of variability are numbers that describe how much variation or diversity there is in a distribution.\n",
    "5. Four measures of variability are the range (the difference between the larges and smallest observations), the interquartile range (the difference between the 75th and 25th percentiles) the variance and the standard deviation.\n",
    "6. The variance and standard deviation are two closely related measures of variability for interval/ratio-level variables that increase or decrease depending on how closely the observations are clustered around the mean.\n"
   ]
  }
 ],
 "metadata": {
  "language_info": {
   "name": "python"
  },
  "orig_nbformat": 4
 },
 "nbformat": 4,
 "nbformat_minor": 2
}
