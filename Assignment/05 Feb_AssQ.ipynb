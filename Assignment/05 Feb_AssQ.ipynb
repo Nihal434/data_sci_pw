{
 "cells": [
  {
   "attachments": {},
   "cell_type": "markdown",
   "metadata": {},
   "source": [
    "#### Ans1:\n",
    "A class is a user-defined ***`blueprint`*** or ***`prototype`*** from which objects are created. Classes provide a means of bundling data and functionality together. Creating a new class creates a new type of `object`, allowing new instances of that type to be made. Each class instance can have `attributes` attached to it for maintaining its state. Class instances can also have `methods` (defined by their class) for modifying their state.\n",
    "- Eg: class human:\n",
    "        pass\n",
    "\n",
    "\n",
    "\n",
    "An Object is an instance of a Class. A class is like a blueprint while an instance is a copy of the class with actual values. \n",
    "An object consists of : \n",
    "\n",
    "- State: It is represented by the attributes of an object. It also reflects the properties of an object.\n",
    "- Behaviour: It is represented by the methods of an object. It also reflects the response of an object to other objects.\n",
    "- Identity: It gives a unique name to an object and enables one object to interact with other objects.\n",
    "\n",
    "\n",
    "When an object of a class is created, the class is said to be instantiated. All the instances share the attributes and the behavior of the class. But the values of those attributes, i.e. the state are unique for each object. A single class may have any number of instances\n",
    "- Eg: rohan = human()"
   ]
  },
  {
   "attachments": {},
   "cell_type": "markdown",
   "metadata": {},
   "source": [
    "#### Ans2: \n",
    "`Inheritance, Polymorphism, Encapsulation and Abstraction`"
   ]
  },
  {
   "attachments": {},
   "cell_type": "markdown",
   "metadata": {},
   "source": [
    "#### Ans3:\n",
    "__init__() aka `constructor` is a special method that the program calls upon an object’s creation. The constructor is used in the class to initialize data members to the object."
   ]
  },
  {
   "cell_type": "code",
   "execution_count": 2,
   "metadata": {},
   "outputs": [
    {
     "name": "stdout",
     "output_type": "stream",
     "text": [
      "Human class constructor initiated\n"
     ]
    }
   ],
   "source": [
    "#Ans3 continued\n",
    "class human:\n",
    "    def __init__(self):\n",
    "        print('Human class constructor initiated')\n",
    "\n",
    "rohan = human()\n",
    "        "
   ]
  },
  {
   "attachments": {},
   "cell_type": "markdown",
   "metadata": {},
   "source": [
    "#### Ans4: \n",
    "`Self is always pointing to Current Object.`\n",
    "self represents the instance of the class. By using the “self”  we can access the attributes and methods of the class in python. It binds the attributes with the given arguments.\n",
    "\n",
    "The reason we use self. is because Python does not use the @ syntax to refer to instance attributes. Python decided to do methods in a way that makes the instance to which the method belongs be passed automatically, but not received automatically: the first parameter of methods is the instance the method is called on."
   ]
  },
  {
   "attachments": {},
   "cell_type": "markdown",
   "metadata": {},
   "source": [
    "#### Ans5: \n",
    "Inheritance allows us to define a class that `inherits` all the `methods` and `properties` from another class. `Parent` class is the class being inherited from, also called `base` class. `Child` class is the class that inherits from another class, also called `derived` class."
   ]
  },
  {
   "cell_type": "code",
   "execution_count": 7,
   "metadata": {},
   "outputs": [
    {
     "name": "stdout",
     "output_type": "stream",
     "text": [
      "10\n",
      "male\n"
     ]
    }
   ],
   "source": [
    "class test1: #parent class\n",
    "    age = 10\n",
    "class test2(test1): # child class\n",
    "    sex = 'male'\n",
    "\n",
    "rohan = test2() #object of child class\n",
    "print(rohan.age) # attribute inherited from parent class\n",
    "print(rohan.sex) # attribute of child class"
   ]
  }
 ],
 "metadata": {
  "kernelspec": {
   "display_name": "base",
   "language": "python",
   "name": "python3"
  },
  "language_info": {
   "codemirror_mode": {
    "name": "ipython",
    "version": 3
   },
   "file_extension": ".py",
   "mimetype": "text/x-python",
   "name": "python",
   "nbconvert_exporter": "python",
   "pygments_lexer": "ipython3",
   "version": "3.9.16"
  },
  "orig_nbformat": 4,
  "vscode": {
   "interpreter": {
    "hash": "c370489388e782aa9b6373b0856d4a71cb56f2a887cc53048a8e75b66b592545"
   }
  }
 },
 "nbformat": 4,
 "nbformat_minor": 2
}
