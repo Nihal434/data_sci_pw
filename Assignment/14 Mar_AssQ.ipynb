{
 "cells": [
  {
   "cell_type": "markdown",
   "id": "8cfcb4d6-c953-4f63-a76f-c45cba568249",
   "metadata": {},
   "source": [
    "# **`Statistics Advance-7`**"
   ]
  },
  {
   "cell_type": "code",
   "execution_count": 58,
   "id": "b8cdf366-a107-42c0-bb6a-85f5f2a62eba",
   "metadata": {},
   "outputs": [],
   "source": [
    "import numpy as np\n",
    "import pandas as pd"
   ]
  },
  {
   "cell_type": "markdown",
   "id": "024accd3-e1e6-4303-8208-dfcc273277a5",
   "metadata": {},
   "source": [
    "`Q1. Write a Python function that takes in two arrays of data and calculates the F-value for a variance ratio\n",
    "test. The function should return the F-value and the corresponding p-value for the test.`"
   ]
  },
  {
   "cell_type": "code",
   "execution_count": 59,
   "id": "f0b74606-56a0-4366-b664-29c9965f7e11",
   "metadata": {},
   "outputs": [],
   "source": [
    "x = np.random.randint(10,20,10)\n",
    "y = np.random.randint(15,25,10)"
   ]
  },
  {
   "cell_type": "code",
   "execution_count": 60,
   "id": "ed044dbc-8261-4a3b-8592-f9ba7b470102",
   "metadata": {},
   "outputs": [
    {
     "data": {
      "text/plain": [
       "(array([13, 13, 11, 10, 10, 19, 16, 18, 17, 11]),\n",
       " array([22, 16, 21, 21, 15, 23, 17, 20, 18, 20]))"
      ]
     },
     "execution_count": 60,
     "metadata": {},
     "output_type": "execute_result"
    }
   ],
   "source": [
    "x,y"
   ]
  },
  {
   "cell_type": "code",
   "execution_count": 61,
   "id": "314f0737-fa5a-4e83-90dc-74c54344ca71",
   "metadata": {},
   "outputs": [
    {
     "name": "stdout",
     "output_type": "stream",
     "text": [
      "F-value is:1.6474258970358815 and its corresponding p-value is 0.23430979658693407\n"
     ]
    }
   ],
   "source": [
    "def f_test(x,y):\n",
    "    \"\"\"Takes 2 arrays x and y as input and returns the F-value and the corresponding p-value\n",
    "    \"\"\"\n",
    "    import numpy as np\n",
    "    import scipy.stats\n",
    "    f = np.var(x,ddof=1)/np.var(y,ddof=1)\n",
    "    num = x.size - 1\n",
    "    den = y.size - 1\n",
    "    p_value = 1 - scipy.stats.f.cdf(f,num,den)\n",
    "    print(f\"F-value is:{f} and its corresponding p-value is {p_value}\")\n",
    "\n",
    "f_test(x,y)"
   ]
  },
  {
   "cell_type": "markdown",
   "id": "dc08c5b7-f5e6-49dd-b036-61d21302c44a",
   "metadata": {},
   "source": [
    "`Q2. Given a significance level of 0.05 and the degrees of freedom for the numerator and denominator of an\n",
    "F-distribution, write a Python function that returns the critical F-value for a two-tailed test.`"
   ]
  },
  {
   "cell_type": "code",
   "execution_count": 62,
   "id": "12a97e53-ce12-4f53-824c-b45f9b2cb8d1",
   "metadata": {},
   "outputs": [
    {
     "name": "stdout",
     "output_type": "stream",
     "text": [
      "The critical F-value is 3.5805803197614603\n"
     ]
    }
   ],
   "source": [
    "def f_critical(p,num,den):\n",
    "    \"\"\"\n",
    "    Takes the significance level p , the degree of freedom in numerator as num and the degree of freedom in the denominator as den and returns\n",
    "    the critical F-value for a two-tailed test\n",
    "    \"\"\"\n",
    "    import scipy.stats as stat\n",
    "    f_critical = stat.f.ppf(q=1-p,dfn=num,dfd=den)\n",
    "    print(f\"The critical F-value is {f_critical}\")\n",
    "f_critical(0.05,6,8)"
   ]
  },
  {
   "cell_type": "markdown",
   "id": "893e5d29-c11f-4552-9874-144d2a449eb6",
   "metadata": {},
   "source": [
    "`Q3. Write a Python program that generates random samples from two normal distributions with known\n",
    "variances and uses an F-test to determine if the variances are equal. The program should output the F-\n",
    "value, degrees of freedom, and p-value for the test.`"
   ]
  },
  {
   "cell_type": "code",
   "execution_count": 63,
   "id": "77012e66-3974-4bfe-a2b2-4b7a47e19976",
   "metadata": {},
   "outputs": [],
   "source": [
    "def f_normal():\n",
    "    \"\"\"generates random samples from two normal distributions with known variances and \n",
    "    uses an F-test to determine if the variances are equal and also retruns the \n",
    "    the F- value, degrees of freedom, and p-value for the test\n",
    "    \"\"\"\n",
    "    import numpy as np\n",
    "    import numpy as np\n",
    "    mu,sigma = 0,0.1\n",
    "    s1 = np.random.normal(mu,sigma,1000)\n",
    "    s2 = np.random.normal(mu,sigma,1000)\n",
    "    print(f\"The variance of s1 is {s1.var()} and the variance of s2 is {s2.var()}\")\n",
    "    import scipy.stats\n",
    "    f = np.var(s1,ddof=1)/np.var(s2,ddof=1)\n",
    "    num = s1.size - 1\n",
    "    den = s2.size - 1\n",
    "    p_value = 1 - scipy.stats.f.cdf(f,num,den)\n",
    "    print(f\"F-value is:{f}. The dof of numerator is {num} and the dof of denominator is {den} and its corresponding p-value is {p_value}\")\n"
   ]
  },
  {
   "cell_type": "code",
   "execution_count": 64,
   "id": "54f517cb-e24b-47ff-8458-22e823bf04da",
   "metadata": {},
   "outputs": [
    {
     "name": "stdout",
     "output_type": "stream",
     "text": [
      "The variance of s1 is 0.009868307262491438 and the variance of s2 is 0.009954647386281983\n",
      "F-value is:0.991326651719525. The dof of numerator is 999 and the dof of denominator is 999 and its corresponding p-value is 0.5547344908689318\n"
     ]
    }
   ],
   "source": [
    "f_normal()"
   ]
  },
  {
   "cell_type": "markdown",
   "id": "79225143-9977-4233-a003-c00945ca8015",
   "metadata": {},
   "source": [
    "`Q4.The variances of two populations are known to be 10 and 15. A sample of 12 observations is taken from\n",
    "each population. Conduct an F-test at the 5% significance level to determine if the variances are\n",
    "significantly different.`"
   ]
  },
  {
   "cell_type": "code",
   "execution_count": 65,
   "id": "f30bd7a1-0ea8-44d7-b6b6-025fde5397c5",
   "metadata": {},
   "outputs": [
    {
     "name": "stdout",
     "output_type": "stream",
     "text": [
      "F: 0.6666666666666666 P-value: 0.7438051006321003\n"
     ]
    }
   ],
   "source": [
    "#h0: variances are equal\n",
    "#ha: varinces are different\n",
    "#data given:\n",
    "s1_var = 10\n",
    "s2_var = 15\n",
    "s1 = s2 = 12\n",
    "import scipy.stats as stat\n",
    "f = s1_var/s2_var\n",
    "num = s1 - 1\n",
    "den = s2 - 1\n",
    "p_value = 1 - stat.f.cdf(f,num,den)\n",
    "print(\"F:\",f,\"P-value:\",p_value)\n",
    "#decision rule for 5% significance with dof1 =9,dof2=14 is the critical value of F = 2.64\n",
    "#since the observed value of f is much lesser than critical value of f the test fails to reject the null hypothesis"
   ]
  },
  {
   "cell_type": "markdown",
   "id": "e04f4f93-8fcf-4195-8883-c5ff26afd30d",
   "metadata": {},
   "source": [
    "`Q5. A manufacturer claims that the variance of the diameter of a certain product is 0.005. A sample of 25\n",
    "products is taken, and the sample variance is found to be 0.006. Conduct an F-test at the 1% significance\n",
    "level to determine if the claim is justified.`"
   ]
  },
  {
   "cell_type": "code",
   "execution_count": 66,
   "id": "4b0342e1-6b29-404b-af08-5fe9f7c5afcf",
   "metadata": {},
   "outputs": [
    {
     "name": "stdout",
     "output_type": "stream",
     "text": [
      "F: 0.8333333333333334 P-value: 0.670634531718276\n"
     ]
    }
   ],
   "source": [
    "#h0: variances are equal\n",
    "#ha: varinces are different\n",
    "#data given:\n",
    "s1_var = 0.005 #as claimed by manufacturer \n",
    "s2_var = 0.006 #from the sample\n",
    "s1 = s2 = 25\n",
    "import scipy.stats as stat\n",
    "f = s1_var/s2_var\n",
    "num = s1 - 1\n",
    "den = s2 - 1\n",
    "p_value = 1 - stat.f.cdf(f,num,den)\n",
    "print(\"F:\",f,\"P-value:\",p_value)\n",
    "#decision rule for 1% significance with dof1 =dof2=24 is the critical value of F = 2.659\n",
    "#since the observed value of f is much lesser than critical value of f the test fails to reject the null hypothesis\n",
    "#Therefore there is no difference between the manufacturer's claim and the sample variance"
   ]
  },
  {
   "cell_type": "markdown",
   "id": "51d4f564-5e55-44bc-b2e8-4a5ebf854194",
   "metadata": {},
   "source": [
    "`Q6. Write a Python function that takes in the degrees of freedom for the numerator and denominator of an\n",
    "F-distribution and calculates the mean and variance of the distribution. The function should return the\n",
    "mean and variance as a tuple.`"
   ]
  },
  {
   "cell_type": "code",
   "execution_count": 67,
   "id": "7737785b-2f4c-4200-ae48-2b0a52ad6c98",
   "metadata": {},
   "outputs": [
    {
     "name": "stdout",
     "output_type": "stream",
     "text": [
      "The mean is 1.1666666666666667    The variance is 0.8166666666666667    The skeweness is 2.5819888974716116    The kurtosis is 15.333333333333337\n"
     ]
    }
   ],
   "source": [
    "def f_stats(dfn,dfd):\n",
    "    \"\"\"takes in the dof in numerator as dfn and the dof in denominator as dfd and returns the mean , variance ,skweness and kurtosis\n",
    "    \"\"\"\n",
    "    from scipy.stats import f\n",
    "    mean, var, skew, kurt = f.stats(dfn, dfd, moments='mvsk')\n",
    "    print(f\"The mean is {mean}\\\n",
    "    The variance is {var}\\\n",
    "    The skeweness is {skew}\\\n",
    "    The kurtosis is {kurt}\")\n",
    "f_stats(6,14)"
   ]
  },
  {
   "cell_type": "markdown",
   "id": "abce1ce3-1f3d-4eba-a36f-4c0a9fb07f59",
   "metadata": {},
   "source": [
    "`Q7. A random sample of 10 measurements is taken from a normal population with unknown variance. The\n",
    "sample variance is found to be 25. Another random sample of 15 measurements is taken from another\n",
    "normal population with unknown variance, and the sample variance is found to be 20. Conduct an F-test\n",
    "at the 10% significance level to determine if the variances are significantly different.`"
   ]
  },
  {
   "cell_type": "code",
   "execution_count": 68,
   "id": "426caeba-67f1-455d-bd68-e6d6f56dd7ee",
   "metadata": {},
   "outputs": [
    {
     "name": "stdout",
     "output_type": "stream",
     "text": [
      "F: 1.6666666666666667 P-value: 0.18883078502209905\n"
     ]
    }
   ],
   "source": [
    "#h0: variances are equal\n",
    "#ha: varinces are different\n",
    "#data given:\n",
    "s1_var = 25 \n",
    "s2_var = 15\n",
    "s1 = 10\n",
    "s2 = 15\n",
    "import scipy.stats as stat\n",
    "f = s1_var/s2_var\n",
    "num = s1 - 1\n",
    "den = s2 - 1\n",
    "p_value = 1 - stat.f.cdf(f,num,den)\n",
    "print(\"F:\",f,\"P-value:\",p_value)\n",
    "#decision rule for 10% significance with dof1=9 & dof2=14 is the critical value of F = 2.12\n",
    "#since the observed value of f is much lesser than critical value of f the test fails to reject the null hypothesis\n",
    "#Therefore there is no difference between the variances"
   ]
  },
  {
   "cell_type": "markdown",
   "id": "85e52861-4ffe-4c6c-88b4-ab6b4f622388",
   "metadata": {},
   "source": [
    "`Q8. The following data represent the waiting times in minutes at two different restaurants on a Saturday\n",
    "night: Restaurant A: 24, 25, 28, 23, 22, 20, 27; Restaurant B: 31, 33, 35, 30, 32, 36. Conduct an F-test at the 5%\n",
    "significance level to determine if the variances are significantly different.`"
   ]
  },
  {
   "cell_type": "code",
   "execution_count": 69,
   "id": "4a67ef4e-e4bc-4a54-a1a8-b94d33edffec",
   "metadata": {
    "tags": []
   },
   "outputs": [
    {
     "name": "stdout",
     "output_type": "stream",
     "text": [
      "F-value is:1.4551907719609583. The dof of numerator is 6 and the dof of denominator is 5 and its corresponding p-value is 0.3487407873968742\n"
     ]
    }
   ],
   "source": [
    "rest_a = [24, 25, 28, 23, 22, 20, 27]\n",
    "rest_b = [31, 33, 35, 30, 32, 36]\n",
    "#h0: variances are equal\n",
    "#ha: varinces are different\n",
    "import scipy.stats\n",
    "f = np.var(rest_a,ddof=1)/np.var(rest_b,ddof=1)\n",
    "num = len(rest_a) - 1\n",
    "den = len(rest_b) - 1\n",
    "p_value = 1 - scipy.stats.f.cdf(f,num,den)\n",
    "print(f\"F-value is:{f}. The dof of numerator is {num} and the dof of denominator is {den} and its corresponding p-value is {p_value}\")\n",
    "#decision rule for 5% significance with dof1=6 & dof2=5 is the critical value of F = 4.9503\n",
    "#since the observed value of f is much lesser than critical value of f the test fails to reject the null hypothesis\n",
    "#Therefore there is no difference between the variances"
   ]
  },
  {
   "cell_type": "markdown",
   "id": "2f4c1f65-e72e-4440-9b64-87de1bd5df8c",
   "metadata": {},
   "source": [
    "`Q9. The following data represent the test scores of two groups of students: Group A: 80, 85, 90, 92, 87, 83;\n",
    "Group B: 75, 78, 82, 79, 81, 84. Conduct an F-test at the 1% significance level to determine if the variances\n",
    "are significantly different.`"
   ]
  },
  {
   "cell_type": "code",
   "execution_count": 70,
   "id": "4b17c32e-49a1-465f-8442-bb9ccb74b216",
   "metadata": {},
   "outputs": [
    {
     "name": "stdout",
     "output_type": "stream",
     "text": [
      "F-value is:1.9442622950819677. The dof of numerator is 5 and the dof of denominator is 5 and its corresponding p-value is 0.2415521774535344\n"
     ]
    }
   ],
   "source": [
    "Group_A = [80, 85, 90, 92, 87, 83]; Group_B = [75, 78, 82, 79, 81, 84]\n",
    "#h0: variances are equal\n",
    "#ha: varinces are different\n",
    "import scipy.stats\n",
    "f = np.var(Group_A,ddof=1)/np.var(Group_B,ddof=1)\n",
    "num = len(Group_A) - 1\n",
    "den = len(Group_B) - 1\n",
    "p_value = 1 - scipy.stats.f.cdf(f,num,den)\n",
    "print(f\"F-value is:{f}. The dof of numerator is {num} and the dof of denominator is {den} and its corresponding p-value is {p_value}\")\n",
    "#decision rule for 1% significance with dof1=5 & dof2=5 is the critical value of F = 10.967\n",
    "#since the observed value of f is much lesser than critical value of f the test fails to reject the null hypothesis\n",
    "#Therefore there is no difference between the variances"
   ]
  }
 ],
 "metadata": {
  "kernelspec": {
   "display_name": "Python 3 (ipykernel)",
   "language": "python",
   "name": "python3"
  },
  "language_info": {
   "codemirror_mode": {
    "name": "ipython",
    "version": 3
   },
   "file_extension": ".py",
   "mimetype": "text/x-python",
   "name": "python",
   "nbconvert_exporter": "python",
   "pygments_lexer": "ipython3",
   "version": "3.9.16"
  }
 },
 "nbformat": 4,
 "nbformat_minor": 5
}
