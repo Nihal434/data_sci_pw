{
 "cells": [
  {
   "attachments": {},
   "cell_type": "markdown",
   "metadata": {},
   "source": [
    "# **`ASSIGNMENT`**"
   ]
  },
  {
   "cell_type": "code",
   "execution_count": 5,
   "metadata": {},
   "outputs": [
    {
     "data": {
      "text/plain": [
       "[1, 3, 5, 7, 9, 11, 13, 15, 17, 19, 21, 23]"
      ]
     },
     "execution_count": 5,
     "metadata": {},
     "output_type": "execute_result"
    }
   ],
   "source": [
    "#Ans1: The keyword is def\n",
    "l = list(range(1,25))\n",
    "def odd_nos(l):\n",
    "    n = []\n",
    "    for i in l:\n",
    "        if i%2 !=0:\n",
    "            n.append(i)\n",
    "    return n\n",
    "odd_nos(l)"
   ]
  },
  {
   "attachments": {},
   "cell_type": "markdown",
   "metadata": {},
   "source": [
    " ans2: \n",
    " - ***args** stands for variable length argument it is used when the number of arguments to be passed to a function is not `pre-defined` or `pre determined` and the function is expected to take any number of arguments passed to it\n",
    " - ****kwargs** stands for keyword arguments which are used to pass a ` keyword attached to a value ` as an argument to the function. The function see the kwargs as key:value pairs inside a dictionary\n",
    " \n",
    "\n"
   ]
  },
  {
   "cell_type": "code",
   "execution_count": 6,
   "metadata": {},
   "outputs": [
    {
     "name": "stdout",
     "output_type": "stream",
     "text": [
      "('a', 1, 2, 3, 4, 'tej', [1, 2, 3, 4])\n",
      "{'a': 'tj', 'b': 23, 'c': 23.5, 'd': [1, 23], 'e': (1, 2)}\n"
     ]
    }
   ],
   "source": [
    "#ans2:\n",
    "def test1(*args):\n",
    "    return args\n",
    "def test2(**kwargs):\n",
    "    return kwargs\n",
    "\n",
    "print(test1('a',1,2,3,4,'tej',[1,2,3,4]))\n",
    "print(test2(a='tj',b=23,c=23.5,d=[1,23],e=(1,2)))"
   ]
  },
  {
   "attachments": {},
   "cell_type": "markdown",
   "metadata": {},
   "source": [
    "#### Ans3\n",
    "An iterator is an object that can be iterated upon, meaning that you can traverse through all the values. The method used to initialise the iterator object is iter() and the method used for iteration is next()."
   ]
  },
  {
   "cell_type": "code",
   "execution_count": 11,
   "metadata": {},
   "outputs": [
    {
     "name": "stdout",
     "output_type": "stream",
     "text": [
      "2\n",
      "4\n",
      "6\n",
      "8\n",
      "10\n"
     ]
    }
   ],
   "source": [
    "l = [2,4,6,8,10,12,14,16,18,20]\n",
    "a = iter(l)\n",
    "print(next(a))\n",
    "print(next(a))\n",
    "print(next(a))\n",
    "print(next(a))\n",
    "print(next(a))\n"
   ]
  },
  {
   "attachments": {},
   "cell_type": "markdown",
   "metadata": {},
   "source": [
    "#### Ans4\n",
    "In Python, a generator is a function that returns an iterator that produces a sequence of values when iterated over.\n",
    "\n",
    "Generators are useful when we want to produce a large sequence of values, but we don't want to store all of them in memory at once like for example in a list \n",
    "\n",
    "In Python, similar to defining a normal function, we can define a generator function using the def keyword, but instead of the return statement we use the yield statement.\n",
    "\n",
    "The yield keyword is used to produce a value from the generator and pause the generator function's execution until the next value is requested.\n"
   ]
  },
  {
   "cell_type": "code",
   "execution_count": 16,
   "metadata": {},
   "outputs": [
    {
     "name": "stdout",
     "output_type": "stream",
     "text": [
      "0\n",
      "1\n",
      "2\n",
      "3\n",
      "4\n",
      "5\n"
     ]
    }
   ],
   "source": [
    "#creating my generator object to get all values from 0 to n-1 for an integer n\n",
    "def my_generator(n):\n",
    "    i=0\n",
    "    while i<n:\n",
    "        yield i\n",
    "        i+=1\n",
    "#iterating over my_generator to get the values\n",
    "for value in my_generator(6):\n",
    "    print(value)\n"
   ]
  },
  {
   "cell_type": "code",
   "execution_count": 39,
   "metadata": {},
   "outputs": [
    {
     "name": "stdout",
     "output_type": "stream",
     "text": [
      "2\n",
      "3\n",
      "5\n",
      "7\n",
      "11\n",
      "13\n",
      "17\n",
      "19\n",
      "23\n",
      "29\n",
      "31\n",
      "37\n",
      "41\n",
      "43\n",
      "47\n",
      "53\n",
      "59\n",
      "61\n",
      "67\n",
      "71\n"
     ]
    }
   ],
   "source": [
    "#Ans5:\n",
    "def prime_generator(n): #defining the generator for prime numbers \n",
    "    for i in range(2,n+1):\n",
    "        for j in range(2,int(i**0.5)+1):\n",
    "            if i%j==0:\n",
    "                break\n",
    "        else:\n",
    "            yield i \n",
    "a = prime_generator(1000) #creating the generator obj for n=1000\n",
    "for i in range(20):\n",
    "    print(next(a)) #printing the first 20 prime numbers"
   ]
  },
  {
   "cell_type": "markdown",
   "metadata": {},
   "source": []
  }
 ],
 "metadata": {
  "kernelspec": {
   "display_name": "base",
   "language": "python",
   "name": "python3"
  },
  "language_info": {
   "codemirror_mode": {
    "name": "ipython",
    "version": 3
   },
   "file_extension": ".py",
   "mimetype": "text/x-python",
   "name": "python",
   "nbconvert_exporter": "python",
   "pygments_lexer": "ipython3",
   "version": "3.9.16"
  },
  "orig_nbformat": 4,
  "vscode": {
   "interpreter": {
    "hash": "c370489388e782aa9b6373b0856d4a71cb56f2a887cc53048a8e75b66b592545"
   }
  }
 },
 "nbformat": 4,
 "nbformat_minor": 2
}
